{
 "cells": [
  {
   "cell_type": "code",
   "execution_count": 1,
   "id": "b9907edb",
   "metadata": {
    "_cell_guid": "b1076dfc-b9ad-4769-8c92-a6c4dae69d19",
    "_uuid": "8f2839f25d086af736a60e9eeb907d3b93b6e0e5",
    "execution": {
     "iopub.execute_input": "2023-06-28T05:43:42.855804Z",
     "iopub.status.busy": "2023-06-28T05:43:42.855432Z",
     "iopub.status.idle": "2023-06-28T05:43:44.138552Z",
     "shell.execute_reply": "2023-06-28T05:43:44.137226Z"
    },
    "papermill": {
     "duration": 1.300434,
     "end_time": "2023-06-28T05:43:44.141472",
     "exception": false,
     "start_time": "2023-06-28T05:43:42.841038",
     "status": "completed"
    },
    "tags": []
   },
   "outputs": [
    {
     "name": "stdout",
     "output_type": "stream",
     "text": [
      "/kaggle/input/house-prices-advanced-regression-techniques/sample_submission.csv\n",
      "/kaggle/input/house-prices-advanced-regression-techniques/data_description.txt\n",
      "/kaggle/input/house-prices-advanced-regression-techniques/train.csv\n",
      "/kaggle/input/house-prices-advanced-regression-techniques/test.csv\n",
      "/kaggle/input/data-processing-in-house-price/X_test.csv\n",
      "/kaggle/input/data-processing-in-house-price/y_train.csv\n",
      "/kaggle/input/data-processing-in-house-price/X_train.csv\n",
      "/kaggle/input/data-processing-in-house-price/__results__.html\n",
      "/kaggle/input/data-processing-in-house-price/__notebook__.ipynb\n",
      "/kaggle/input/data-processing-in-house-price/__output__.json\n",
      "/kaggle/input/data-processing-in-house-price/custom.css\n"
     ]
    }
   ],
   "source": [
    "import pandas as pd \n",
    "import numpy as np\n",
    "import scipy.stats as stats\n",
    "import warnings \n",
    "warnings.filterwarnings(\"ignore\")\n",
    "\n",
    "import math\n",
    "\n",
    "import os\n",
    "for dirname, _, filenames in os.walk('/kaggle/input'):\n",
    "    for filename in filenames:\n",
    "        print(os.path.join(dirname, filename))\n",
    "\n",
    "pd.set_option('display.max_columns',100)"
   ]
  },
  {
   "cell_type": "code",
   "execution_count": 2,
   "id": "c4078e3d",
   "metadata": {
    "execution": {
     "iopub.execute_input": "2023-06-28T05:43:44.164639Z",
     "iopub.status.busy": "2023-06-28T05:43:44.164215Z",
     "iopub.status.idle": "2023-06-28T05:43:44.274679Z",
     "shell.execute_reply": "2023-06-28T05:43:44.273422Z"
    },
    "papermill": {
     "duration": 0.125661,
     "end_time": "2023-06-28T05:43:44.277972",
     "exception": false,
     "start_time": "2023-06-28T05:43:44.152311",
     "status": "completed"
    },
    "tags": []
   },
   "outputs": [],
   "source": [
    "train = pd.read_csv('/kaggle/input/house-prices-advanced-regression-techniques/train.csv')\n",
    "test = pd.read_csv('/kaggle/input/house-prices-advanced-regression-techniques/test.csv')\n",
    "sample_submission = pd.read_csv('/kaggle/input/house-prices-advanced-regression-techniques/sample_submission.csv')"
   ]
  },
  {
   "cell_type": "code",
   "execution_count": 3,
   "id": "80b5fd1f",
   "metadata": {
    "execution": {
     "iopub.execute_input": "2023-06-28T05:43:44.304039Z",
     "iopub.status.busy": "2023-06-28T05:43:44.303321Z",
     "iopub.status.idle": "2023-06-28T05:43:44.470609Z",
     "shell.execute_reply": "2023-06-28T05:43:44.469394Z"
    },
    "papermill": {
     "duration": 0.182871,
     "end_time": "2023-06-28T05:43:44.473483",
     "exception": false,
     "start_time": "2023-06-28T05:43:44.290612",
     "status": "completed"
    },
    "tags": []
   },
   "outputs": [],
   "source": [
    "X_train = pd.read_csv('/kaggle/input/data-processing-in-house-price/X_train.csv')\n",
    "X_test = pd.read_csv('/kaggle/input/data-processing-in-house-price/X_test.csv')\n",
    "y_train = np.ravel(pd.read_csv('/kaggle/input/data-processing-in-house-price/y_train.csv'))"
   ]
  },
  {
   "cell_type": "code",
   "execution_count": 4,
   "id": "4c901152",
   "metadata": {
    "execution": {
     "iopub.execute_input": "2023-06-28T05:43:44.496711Z",
     "iopub.status.busy": "2023-06-28T05:43:44.496292Z",
     "iopub.status.idle": "2023-06-28T05:43:44.810517Z",
     "shell.execute_reply": "2023-06-28T05:43:44.809317Z"
    },
    "papermill": {
     "duration": 0.329021,
     "end_time": "2023-06-28T05:43:44.813396",
     "exception": false,
     "start_time": "2023-06-28T05:43:44.484375",
     "status": "completed"
    },
    "tags": []
   },
   "outputs": [],
   "source": [
    "from sklearn.model_selection import train_test_split\n",
    "X_train, X_val, y_train, y_val = train_test_split(X_train, y_train, test_size=0.20, random_state=42)"
   ]
  },
  {
   "cell_type": "markdown",
   "id": "3b67553b",
   "metadata": {
    "papermill": {
     "duration": 0.010204,
     "end_time": "2023-06-28T05:43:44.834268",
     "exception": false,
     "start_time": "2023-06-28T05:43:44.824064",
     "status": "completed"
    },
    "tags": []
   },
   "source": [
    "# Random Forest"
   ]
  },
  {
   "cell_type": "code",
   "execution_count": 5,
   "id": "06db7032",
   "metadata": {
    "execution": {
     "iopub.execute_input": "2023-06-28T05:43:44.856977Z",
     "iopub.status.busy": "2023-06-28T05:43:44.856575Z",
     "iopub.status.idle": "2023-06-28T05:43:45.259295Z",
     "shell.execute_reply": "2023-06-28T05:43:45.258341Z"
    },
    "papermill": {
     "duration": 0.417373,
     "end_time": "2023-06-28T05:43:45.262124",
     "exception": false,
     "start_time": "2023-06-28T05:43:44.844751",
     "status": "completed"
    },
    "tags": []
   },
   "outputs": [],
   "source": [
    "from sklearn.ensemble import RandomForestRegressor\n",
    "from sklearn.model_selection import GridSearchCV"
   ]
  },
  {
   "cell_type": "code",
   "execution_count": 6,
   "id": "22c4e458",
   "metadata": {
    "execution": {
     "iopub.execute_input": "2023-06-28T05:43:45.285497Z",
     "iopub.status.busy": "2023-06-28T05:43:45.285072Z",
     "iopub.status.idle": "2023-06-28T05:43:45.290160Z",
     "shell.execute_reply": "2023-06-28T05:43:45.289094Z"
    },
    "papermill": {
     "duration": 0.019592,
     "end_time": "2023-06-28T05:43:45.292475",
     "exception": false,
     "start_time": "2023-06-28T05:43:45.272883",
     "status": "completed"
    },
    "tags": []
   },
   "outputs": [],
   "source": [
    "#model = RandomForestRegressor(random_state=87)\n",
    "#parameters = {'n_estimators':[100, 200, 300],\n",
    "#             'max_depth':range(1,16)\n",
    "    \n",
    "#}\n",
    "#clf = GridSearchCV(model, parameters, cv=5, n_jobs=-1, scoring='r2')\n",
    "#clf.fit(X_train,np.ravel(y_train))"
   ]
  },
  {
   "cell_type": "code",
   "execution_count": 7,
   "id": "36d48498",
   "metadata": {
    "execution": {
     "iopub.execute_input": "2023-06-28T05:43:45.316670Z",
     "iopub.status.busy": "2023-06-28T05:43:45.315771Z",
     "iopub.status.idle": "2023-06-28T05:43:45.321047Z",
     "shell.execute_reply": "2023-06-28T05:43:45.319680Z"
    },
    "papermill": {
     "duration": 0.0195,
     "end_time": "2023-06-28T05:43:45.323350",
     "exception": false,
     "start_time": "2023-06-28T05:43:45.303850",
     "status": "completed"
    },
    "tags": []
   },
   "outputs": [],
   "source": [
    "#clf.best_params_"
   ]
  },
  {
   "cell_type": "code",
   "execution_count": 8,
   "id": "51013b0b",
   "metadata": {
    "execution": {
     "iopub.execute_input": "2023-06-28T05:43:45.346136Z",
     "iopub.status.busy": "2023-06-28T05:43:45.345692Z",
     "iopub.status.idle": "2023-06-28T05:43:48.313548Z",
     "shell.execute_reply": "2023-06-28T05:43:48.312557Z"
    },
    "papermill": {
     "duration": 2.982132,
     "end_time": "2023-06-28T05:43:48.315936",
     "exception": false,
     "start_time": "2023-06-28T05:43:45.333804",
     "status": "completed"
    },
    "tags": []
   },
   "outputs": [
    {
     "data": {
      "text/html": [
       "<style>#sk-container-id-1 {color: black;background-color: white;}#sk-container-id-1 pre{padding: 0;}#sk-container-id-1 div.sk-toggleable {background-color: white;}#sk-container-id-1 label.sk-toggleable__label {cursor: pointer;display: block;width: 100%;margin-bottom: 0;padding: 0.3em;box-sizing: border-box;text-align: center;}#sk-container-id-1 label.sk-toggleable__label-arrow:before {content: \"▸\";float: left;margin-right: 0.25em;color: #696969;}#sk-container-id-1 label.sk-toggleable__label-arrow:hover:before {color: black;}#sk-container-id-1 div.sk-estimator:hover label.sk-toggleable__label-arrow:before {color: black;}#sk-container-id-1 div.sk-toggleable__content {max-height: 0;max-width: 0;overflow: hidden;text-align: left;background-color: #f0f8ff;}#sk-container-id-1 div.sk-toggleable__content pre {margin: 0.2em;color: black;border-radius: 0.25em;background-color: #f0f8ff;}#sk-container-id-1 input.sk-toggleable__control:checked~div.sk-toggleable__content {max-height: 200px;max-width: 100%;overflow: auto;}#sk-container-id-1 input.sk-toggleable__control:checked~label.sk-toggleable__label-arrow:before {content: \"▾\";}#sk-container-id-1 div.sk-estimator input.sk-toggleable__control:checked~label.sk-toggleable__label {background-color: #d4ebff;}#sk-container-id-1 div.sk-label input.sk-toggleable__control:checked~label.sk-toggleable__label {background-color: #d4ebff;}#sk-container-id-1 input.sk-hidden--visually {border: 0;clip: rect(1px 1px 1px 1px);clip: rect(1px, 1px, 1px, 1px);height: 1px;margin: -1px;overflow: hidden;padding: 0;position: absolute;width: 1px;}#sk-container-id-1 div.sk-estimator {font-family: monospace;background-color: #f0f8ff;border: 1px dotted black;border-radius: 0.25em;box-sizing: border-box;margin-bottom: 0.5em;}#sk-container-id-1 div.sk-estimator:hover {background-color: #d4ebff;}#sk-container-id-1 div.sk-parallel-item::after {content: \"\";width: 100%;border-bottom: 1px solid gray;flex-grow: 1;}#sk-container-id-1 div.sk-label:hover label.sk-toggleable__label {background-color: #d4ebff;}#sk-container-id-1 div.sk-serial::before {content: \"\";position: absolute;border-left: 1px solid gray;box-sizing: border-box;top: 0;bottom: 0;left: 50%;z-index: 0;}#sk-container-id-1 div.sk-serial {display: flex;flex-direction: column;align-items: center;background-color: white;padding-right: 0.2em;padding-left: 0.2em;position: relative;}#sk-container-id-1 div.sk-item {position: relative;z-index: 1;}#sk-container-id-1 div.sk-parallel {display: flex;align-items: stretch;justify-content: center;background-color: white;position: relative;}#sk-container-id-1 div.sk-item::before, #sk-container-id-1 div.sk-parallel-item::before {content: \"\";position: absolute;border-left: 1px solid gray;box-sizing: border-box;top: 0;bottom: 0;left: 50%;z-index: -1;}#sk-container-id-1 div.sk-parallel-item {display: flex;flex-direction: column;z-index: 1;position: relative;background-color: white;}#sk-container-id-1 div.sk-parallel-item:first-child::after {align-self: flex-end;width: 50%;}#sk-container-id-1 div.sk-parallel-item:last-child::after {align-self: flex-start;width: 50%;}#sk-container-id-1 div.sk-parallel-item:only-child::after {width: 0;}#sk-container-id-1 div.sk-dashed-wrapped {border: 1px dashed gray;margin: 0 0.4em 0.5em 0.4em;box-sizing: border-box;padding-bottom: 0.4em;background-color: white;}#sk-container-id-1 div.sk-label label {font-family: monospace;font-weight: bold;display: inline-block;line-height: 1.2em;}#sk-container-id-1 div.sk-label-container {text-align: center;}#sk-container-id-1 div.sk-container {/* jupyter's `normalize.less` sets `[hidden] { display: none; }` but bootstrap.min.css set `[hidden] { display: none !important; }` so we also need the `!important` here to be able to override the default hidden behavior on the sphinx rendered scikit-learn.org. See: https://github.com/scikit-learn/scikit-learn/issues/21755 */display: inline-block !important;position: relative;}#sk-container-id-1 div.sk-text-repr-fallback {display: none;}</style><div id=\"sk-container-id-1\" class=\"sk-top-container\"><div class=\"sk-text-repr-fallback\"><pre>RandomForestRegressor(max_depth=12, min_impurity_decrease=0.01, random_state=87)</pre><b>In a Jupyter environment, please rerun this cell to show the HTML representation or trust the notebook. <br />On GitHub, the HTML representation is unable to render, please try loading this page with nbviewer.org.</b></div><div class=\"sk-container\" hidden><div class=\"sk-item\"><div class=\"sk-estimator sk-toggleable\"><input class=\"sk-toggleable__control sk-hidden--visually\" id=\"sk-estimator-id-1\" type=\"checkbox\" checked><label for=\"sk-estimator-id-1\" class=\"sk-toggleable__label sk-toggleable__label-arrow\">RandomForestRegressor</label><div class=\"sk-toggleable__content\"><pre>RandomForestRegressor(max_depth=12, min_impurity_decrease=0.01, random_state=87)</pre></div></div></div></div></div>"
      ],
      "text/plain": [
       "RandomForestRegressor(max_depth=12, min_impurity_decrease=0.01, random_state=87)"
      ]
     },
     "execution_count": 8,
     "metadata": {},
     "output_type": "execute_result"
    }
   ],
   "source": [
    "modelRF = RandomForestRegressor(random_state=87, n_estimators=100, max_depth=12,min_impurity_decrease=0.01)\n",
    "modelRF.fit(X_train, y_train)"
   ]
  },
  {
   "cell_type": "code",
   "execution_count": 9,
   "id": "e26d53e5",
   "metadata": {
    "execution": {
     "iopub.execute_input": "2023-06-28T05:43:48.341053Z",
     "iopub.status.busy": "2023-06-28T05:43:48.340679Z",
     "iopub.status.idle": "2023-06-28T05:43:48.372737Z",
     "shell.execute_reply": "2023-06-28T05:43:48.371492Z"
    },
    "papermill": {
     "duration": 0.048006,
     "end_time": "2023-06-28T05:43:48.375391",
     "exception": false,
     "start_time": "2023-06-28T05:43:48.327385",
     "status": "completed"
    },
    "tags": []
   },
   "outputs": [
    {
     "data": {
      "text/plain": [
       "0.8928554268476235"
      ]
     },
     "execution_count": 9,
     "metadata": {},
     "output_type": "execute_result"
    }
   ],
   "source": [
    "modelRF.score(X_val, y_val)"
   ]
  },
  {
   "cell_type": "code",
   "execution_count": 10,
   "id": "74fa7da0",
   "metadata": {
    "execution": {
     "iopub.execute_input": "2023-06-28T05:43:48.400311Z",
     "iopub.status.busy": "2023-06-28T05:43:48.399026Z",
     "iopub.status.idle": "2023-06-28T05:43:48.433171Z",
     "shell.execute_reply": "2023-06-28T05:43:48.431873Z"
    },
    "papermill": {
     "duration": 0.049555,
     "end_time": "2023-06-28T05:43:48.436234",
     "exception": false,
     "start_time": "2023-06-28T05:43:48.386679",
     "status": "completed"
    },
    "tags": []
   },
   "outputs": [
    {
     "name": "stdout",
     "output_type": "stream",
     "text": [
      "R2 Score: 0.8928554268476235\n",
      "Mean Absolude Error: 17304.748507461994\n",
      "Mean Square Error: 821833827.408551\n",
      "Root Mean Square Error: 28667.64425983675\n"
     ]
    }
   ],
   "source": [
    "from sklearn.metrics import r2_score, mean_absolute_error, mean_squared_error\n",
    "\n",
    "y_pred=modelRF.predict(X_val)\n",
    "print('R2 Score:',r2_score(y_true=y_val, y_pred=y_pred))\n",
    "print('Mean Absolude Error:',mean_absolute_error(y_true=y_val, y_pred=y_pred))\n",
    "print('Mean Square Error:',mean_squared_error(y_true=y_val, y_pred=y_pred))\n",
    "print('Root Mean Square Error:',mean_squared_error(y_true=y_val, y_pred=y_pred, squared=False))"
   ]
  },
  {
   "cell_type": "code",
   "execution_count": 11,
   "id": "47bb4962",
   "metadata": {
    "execution": {
     "iopub.execute_input": "2023-06-28T05:43:48.460791Z",
     "iopub.status.busy": "2023-06-28T05:43:48.460407Z",
     "iopub.status.idle": "2023-06-28T05:43:48.536609Z",
     "shell.execute_reply": "2023-06-28T05:43:48.535410Z"
    },
    "papermill": {
     "duration": 0.092268,
     "end_time": "2023-06-28T05:43:48.539685",
     "exception": false,
     "start_time": "2023-06-28T05:43:48.447417",
     "status": "completed"
    },
    "tags": []
   },
   "outputs": [
    {
     "name": "stdout",
     "output_type": "stream",
     "text": [
      "        Id      SalePrice\n",
      "0     1461  126543.397551\n",
      "1     1462  155357.378085\n",
      "2     1463  179774.760817\n",
      "3     1464  180906.540242\n",
      "4     1465  206202.328944\n",
      "...    ...            ...\n",
      "1454  2915   90573.899347\n",
      "1455  2916   94202.084145\n",
      "1456  2917  155764.216957\n",
      "1457  2918  118146.753667\n",
      "1458  2919  223487.686988\n",
      "\n",
      "[1459 rows x 2 columns]\n"
     ]
    }
   ],
   "source": [
    "sample_submission['Id'] = test.reset_index()['Id']\n",
    "sample_submission.SalePrice = modelRF.predict(X_test)\n",
    "sample_submission.set_index('Id').to_csv('submissionRF.csv')\n",
    "print(sample_submission)"
   ]
  },
  {
   "cell_type": "markdown",
   "id": "b117a39b",
   "metadata": {
    "papermill": {
     "duration": 0.010795,
     "end_time": "2023-06-28T05:43:48.562311",
     "exception": false,
     "start_time": "2023-06-28T05:43:48.551516",
     "status": "completed"
    },
    "tags": []
   },
   "source": [
    "# XGBoots Regressor"
   ]
  },
  {
   "cell_type": "code",
   "execution_count": 12,
   "id": "4fe2e8f5",
   "metadata": {
    "execution": {
     "iopub.execute_input": "2023-06-28T05:43:48.586138Z",
     "iopub.status.busy": "2023-06-28T05:43:48.585747Z",
     "iopub.status.idle": "2023-06-28T05:43:48.768716Z",
     "shell.execute_reply": "2023-06-28T05:43:48.767504Z"
    },
    "papermill": {
     "duration": 0.198177,
     "end_time": "2023-06-28T05:43:48.771681",
     "exception": false,
     "start_time": "2023-06-28T05:43:48.573504",
     "status": "completed"
    },
    "tags": []
   },
   "outputs": [],
   "source": [
    "import xgboost as xgb"
   ]
  },
  {
   "cell_type": "code",
   "execution_count": 13,
   "id": "c61bf67d",
   "metadata": {
    "execution": {
     "iopub.execute_input": "2023-06-28T05:43:48.796054Z",
     "iopub.status.busy": "2023-06-28T05:43:48.795678Z",
     "iopub.status.idle": "2023-06-28T05:43:48.800533Z",
     "shell.execute_reply": "2023-06-28T05:43:48.799225Z"
    },
    "papermill": {
     "duration": 0.020065,
     "end_time": "2023-06-28T05:43:48.803002",
     "exception": false,
     "start_time": "2023-06-28T05:43:48.782937",
     "status": "completed"
    },
    "tags": []
   },
   "outputs": [],
   "source": [
    "#model = xgb.XGBRegressor(random_state=42, booster='gbtree')\n",
    "#parameters = {'learning_rate': [0.1, 0.01, 0.001],\n",
    "#             'max_depth': range(1,16),\n",
    "#              'n_estimators': [100, 200, 300,400,500]\n",
    "#}\n",
    "#clf = GridSearchCV(model, parameters, cv=5, n_jobs=-1, scoring='r2')\n",
    "#clf.fit(X_train,y_train)"
   ]
  },
  {
   "cell_type": "code",
   "execution_count": 14,
   "id": "2527ad86",
   "metadata": {
    "execution": {
     "iopub.execute_input": "2023-06-28T05:43:48.827595Z",
     "iopub.status.busy": "2023-06-28T05:43:48.827194Z",
     "iopub.status.idle": "2023-06-28T05:43:48.832044Z",
     "shell.execute_reply": "2023-06-28T05:43:48.830786Z"
    },
    "papermill": {
     "duration": 0.019776,
     "end_time": "2023-06-28T05:43:48.834208",
     "exception": false,
     "start_time": "2023-06-28T05:43:48.814432",
     "status": "completed"
    },
    "tags": []
   },
   "outputs": [],
   "source": [
    "#clf.best_params_"
   ]
  },
  {
   "cell_type": "code",
   "execution_count": 15,
   "id": "9bda2538",
   "metadata": {
    "execution": {
     "iopub.execute_input": "2023-06-28T05:43:48.858387Z",
     "iopub.status.busy": "2023-06-28T05:43:48.857981Z",
     "iopub.status.idle": "2023-06-28T05:43:50.861846Z",
     "shell.execute_reply": "2023-06-28T05:43:50.860927Z"
    },
    "papermill": {
     "duration": 2.019005,
     "end_time": "2023-06-28T05:43:50.864700",
     "exception": false,
     "start_time": "2023-06-28T05:43:48.845695",
     "status": "completed"
    },
    "tags": []
   },
   "outputs": [
    {
     "data": {
      "text/html": [
       "<style>#sk-container-id-2 {color: black;background-color: white;}#sk-container-id-2 pre{padding: 0;}#sk-container-id-2 div.sk-toggleable {background-color: white;}#sk-container-id-2 label.sk-toggleable__label {cursor: pointer;display: block;width: 100%;margin-bottom: 0;padding: 0.3em;box-sizing: border-box;text-align: center;}#sk-container-id-2 label.sk-toggleable__label-arrow:before {content: \"▸\";float: left;margin-right: 0.25em;color: #696969;}#sk-container-id-2 label.sk-toggleable__label-arrow:hover:before {color: black;}#sk-container-id-2 div.sk-estimator:hover label.sk-toggleable__label-arrow:before {color: black;}#sk-container-id-2 div.sk-toggleable__content {max-height: 0;max-width: 0;overflow: hidden;text-align: left;background-color: #f0f8ff;}#sk-container-id-2 div.sk-toggleable__content pre {margin: 0.2em;color: black;border-radius: 0.25em;background-color: #f0f8ff;}#sk-container-id-2 input.sk-toggleable__control:checked~div.sk-toggleable__content {max-height: 200px;max-width: 100%;overflow: auto;}#sk-container-id-2 input.sk-toggleable__control:checked~label.sk-toggleable__label-arrow:before {content: \"▾\";}#sk-container-id-2 div.sk-estimator input.sk-toggleable__control:checked~label.sk-toggleable__label {background-color: #d4ebff;}#sk-container-id-2 div.sk-label input.sk-toggleable__control:checked~label.sk-toggleable__label {background-color: #d4ebff;}#sk-container-id-2 input.sk-hidden--visually {border: 0;clip: rect(1px 1px 1px 1px);clip: rect(1px, 1px, 1px, 1px);height: 1px;margin: -1px;overflow: hidden;padding: 0;position: absolute;width: 1px;}#sk-container-id-2 div.sk-estimator {font-family: monospace;background-color: #f0f8ff;border: 1px dotted black;border-radius: 0.25em;box-sizing: border-box;margin-bottom: 0.5em;}#sk-container-id-2 div.sk-estimator:hover {background-color: #d4ebff;}#sk-container-id-2 div.sk-parallel-item::after {content: \"\";width: 100%;border-bottom: 1px solid gray;flex-grow: 1;}#sk-container-id-2 div.sk-label:hover label.sk-toggleable__label {background-color: #d4ebff;}#sk-container-id-2 div.sk-serial::before {content: \"\";position: absolute;border-left: 1px solid gray;box-sizing: border-box;top: 0;bottom: 0;left: 50%;z-index: 0;}#sk-container-id-2 div.sk-serial {display: flex;flex-direction: column;align-items: center;background-color: white;padding-right: 0.2em;padding-left: 0.2em;position: relative;}#sk-container-id-2 div.sk-item {position: relative;z-index: 1;}#sk-container-id-2 div.sk-parallel {display: flex;align-items: stretch;justify-content: center;background-color: white;position: relative;}#sk-container-id-2 div.sk-item::before, #sk-container-id-2 div.sk-parallel-item::before {content: \"\";position: absolute;border-left: 1px solid gray;box-sizing: border-box;top: 0;bottom: 0;left: 50%;z-index: -1;}#sk-container-id-2 div.sk-parallel-item {display: flex;flex-direction: column;z-index: 1;position: relative;background-color: white;}#sk-container-id-2 div.sk-parallel-item:first-child::after {align-self: flex-end;width: 50%;}#sk-container-id-2 div.sk-parallel-item:last-child::after {align-self: flex-start;width: 50%;}#sk-container-id-2 div.sk-parallel-item:only-child::after {width: 0;}#sk-container-id-2 div.sk-dashed-wrapped {border: 1px dashed gray;margin: 0 0.4em 0.5em 0.4em;box-sizing: border-box;padding-bottom: 0.4em;background-color: white;}#sk-container-id-2 div.sk-label label {font-family: monospace;font-weight: bold;display: inline-block;line-height: 1.2em;}#sk-container-id-2 div.sk-label-container {text-align: center;}#sk-container-id-2 div.sk-container {/* jupyter's `normalize.less` sets `[hidden] { display: none; }` but bootstrap.min.css set `[hidden] { display: none !important; }` so we also need the `!important` here to be able to override the default hidden behavior on the sphinx rendered scikit-learn.org. See: https://github.com/scikit-learn/scikit-learn/issues/21755 */display: inline-block !important;position: relative;}#sk-container-id-2 div.sk-text-repr-fallback {display: none;}</style><div id=\"sk-container-id-2\" class=\"sk-top-container\"><div class=\"sk-text-repr-fallback\"><pre>XGBRegressor(base_score=None, booster=&#x27;gbtree&#x27;, callbacks=None,\n",
       "             colsample_bylevel=None, colsample_bynode=None,\n",
       "             colsample_bytree=None, early_stopping_rounds=None,\n",
       "             enable_categorical=False, eval_metric=None, feature_types=None,\n",
       "             gamma=None, gpu_id=None, grow_policy=None, importance_type=None,\n",
       "             interaction_constraints=None, learning_rate=0.1, max_bin=None,\n",
       "             max_cat_threshold=None, max_cat_to_onehot=None,\n",
       "             max_delta_step=None, max_depth=3, max_leaves=None,\n",
       "             min_child_weight=None, missing=nan, monotone_constraints=None,\n",
       "             n_estimators=300, n_jobs=None, num_parallel_tree=None,\n",
       "             predictor=None, random_state=42, ...)</pre><b>In a Jupyter environment, please rerun this cell to show the HTML representation or trust the notebook. <br />On GitHub, the HTML representation is unable to render, please try loading this page with nbviewer.org.</b></div><div class=\"sk-container\" hidden><div class=\"sk-item\"><div class=\"sk-estimator sk-toggleable\"><input class=\"sk-toggleable__control sk-hidden--visually\" id=\"sk-estimator-id-2\" type=\"checkbox\" checked><label for=\"sk-estimator-id-2\" class=\"sk-toggleable__label sk-toggleable__label-arrow\">XGBRegressor</label><div class=\"sk-toggleable__content\"><pre>XGBRegressor(base_score=None, booster=&#x27;gbtree&#x27;, callbacks=None,\n",
       "             colsample_bylevel=None, colsample_bynode=None,\n",
       "             colsample_bytree=None, early_stopping_rounds=None,\n",
       "             enable_categorical=False, eval_metric=None, feature_types=None,\n",
       "             gamma=None, gpu_id=None, grow_policy=None, importance_type=None,\n",
       "             interaction_constraints=None, learning_rate=0.1, max_bin=None,\n",
       "             max_cat_threshold=None, max_cat_to_onehot=None,\n",
       "             max_delta_step=None, max_depth=3, max_leaves=None,\n",
       "             min_child_weight=None, missing=nan, monotone_constraints=None,\n",
       "             n_estimators=300, n_jobs=None, num_parallel_tree=None,\n",
       "             predictor=None, random_state=42, ...)</pre></div></div></div></div></div>"
      ],
      "text/plain": [
       "XGBRegressor(base_score=None, booster='gbtree', callbacks=None,\n",
       "             colsample_bylevel=None, colsample_bynode=None,\n",
       "             colsample_bytree=None, early_stopping_rounds=None,\n",
       "             enable_categorical=False, eval_metric=None, feature_types=None,\n",
       "             gamma=None, gpu_id=None, grow_policy=None, importance_type=None,\n",
       "             interaction_constraints=None, learning_rate=0.1, max_bin=None,\n",
       "             max_cat_threshold=None, max_cat_to_onehot=None,\n",
       "             max_delta_step=None, max_depth=3, max_leaves=None,\n",
       "             min_child_weight=None, missing=nan, monotone_constraints=None,\n",
       "             n_estimators=300, n_jobs=None, num_parallel_tree=None,\n",
       "             predictor=None, random_state=42, ...)"
      ]
     },
     "execution_count": 15,
     "metadata": {},
     "output_type": "execute_result"
    }
   ],
   "source": [
    "xgb_model = xgb.XGBRegressor(random_state=42, \n",
    "                             booster='gbtree',\n",
    "                             learning_rate=0.1,\n",
    "                             max_depth=3, \n",
    "                             n_estimators=300,\n",
    "                             reg_lambda=0.1)\n",
    "xgb_model.fit(X_train, y_train)"
   ]
  },
  {
   "cell_type": "code",
   "execution_count": 16,
   "id": "17fef833",
   "metadata": {
    "execution": {
     "iopub.execute_input": "2023-06-28T05:43:50.890228Z",
     "iopub.status.busy": "2023-06-28T05:43:50.889787Z",
     "iopub.status.idle": "2023-06-28T05:43:50.918140Z",
     "shell.execute_reply": "2023-06-28T05:43:50.917256Z"
    },
    "papermill": {
     "duration": 0.043842,
     "end_time": "2023-06-28T05:43:50.920575",
     "exception": false,
     "start_time": "2023-06-28T05:43:50.876733",
     "status": "completed"
    },
    "tags": []
   },
   "outputs": [
    {
     "data": {
      "text/plain": [
       "0.8775732841765045"
      ]
     },
     "execution_count": 16,
     "metadata": {},
     "output_type": "execute_result"
    }
   ],
   "source": [
    "xgb_model.score(X_val,y_val)"
   ]
  },
  {
   "cell_type": "code",
   "execution_count": 17,
   "id": "332e9c7a",
   "metadata": {
    "execution": {
     "iopub.execute_input": "2023-06-28T05:43:50.946462Z",
     "iopub.status.busy": "2023-06-28T05:43:50.945772Z",
     "iopub.status.idle": "2023-06-28T05:43:50.977631Z",
     "shell.execute_reply": "2023-06-28T05:43:50.976710Z"
    },
    "papermill": {
     "duration": 0.047144,
     "end_time": "2023-06-28T05:43:50.979996",
     "exception": false,
     "start_time": "2023-06-28T05:43:50.932852",
     "status": "completed"
    },
    "tags": []
   },
   "outputs": [
    {
     "name": "stdout",
     "output_type": "stream",
     "text": [
      "R2 Score: 0.8775732841765045\n",
      "Mean Absolude Error: 16844.465927333047\n",
      "Mean Square Error: 939052846.8408086\n",
      "Root Mean Square Error: 30643.96917569277\n"
     ]
    }
   ],
   "source": [
    "y_pred=xgb_model.predict(X_val)\n",
    "print('R2 Score:',r2_score(y_true=y_val, y_pred=y_pred))\n",
    "print('Mean Absolude Error:',mean_absolute_error(y_true=y_val, y_pred=y_pred))\n",
    "print('Mean Square Error:',mean_squared_error(y_true=y_val, y_pred=y_pred))\n",
    "print('Root Mean Square Error:',mean_squared_error(y_true=y_val, y_pred=y_pred, squared=False))"
   ]
  },
  {
   "cell_type": "code",
   "execution_count": 18,
   "id": "d792d2f7",
   "metadata": {
    "execution": {
     "iopub.execute_input": "2023-06-28T05:43:51.005855Z",
     "iopub.status.busy": "2023-06-28T05:43:51.005462Z",
     "iopub.status.idle": "2023-06-28T05:43:51.050456Z",
     "shell.execute_reply": "2023-06-28T05:43:51.049434Z"
    },
    "papermill": {
     "duration": 0.060296,
     "end_time": "2023-06-28T05:43:51.052919",
     "exception": false,
     "start_time": "2023-06-28T05:43:50.992623",
     "status": "completed"
    },
    "tags": []
   },
   "outputs": [
    {
     "name": "stdout",
     "output_type": "stream",
     "text": [
      "        Id      SalePrice\n",
      "0     1461  125038.140625\n",
      "1     1462  158655.109375\n",
      "2     1463  182980.390625\n",
      "3     1464  193830.203125\n",
      "4     1465  187543.062500\n",
      "...    ...            ...\n",
      "1454  2915   79797.484375\n",
      "1455  2916   67679.195312\n",
      "1456  2917  152468.781250\n",
      "1457  2918  121669.625000\n",
      "1458  2919  210319.984375\n",
      "\n",
      "[1459 rows x 2 columns]\n"
     ]
    }
   ],
   "source": [
    "sample_submission['Id'] = test.reset_index()['Id']\n",
    "sample_submission.SalePrice = xgb_model.predict(X_test)\n",
    "sample_submission.set_index('Id').to_csv('submissionXGB.csv')\n",
    "print(sample_submission)"
   ]
  },
  {
   "cell_type": "markdown",
   "id": "38942c45",
   "metadata": {
    "papermill": {
     "duration": 0.011437,
     "end_time": "2023-06-28T05:43:51.076042",
     "exception": false,
     "start_time": "2023-06-28T05:43:51.064605",
     "status": "completed"
    },
    "tags": []
   },
   "source": [
    "# LightGBM"
   ]
  },
  {
   "cell_type": "code",
   "execution_count": 19,
   "id": "a030b3f8",
   "metadata": {
    "execution": {
     "iopub.execute_input": "2023-06-28T05:43:51.101914Z",
     "iopub.status.busy": "2023-06-28T05:43:51.100884Z",
     "iopub.status.idle": "2023-06-28T05:43:52.197317Z",
     "shell.execute_reply": "2023-06-28T05:43:52.196209Z"
    },
    "papermill": {
     "duration": 1.112363,
     "end_time": "2023-06-28T05:43:52.200181",
     "exception": false,
     "start_time": "2023-06-28T05:43:51.087818",
     "status": "completed"
    },
    "tags": []
   },
   "outputs": [],
   "source": [
    "import lightgbm as lgb"
   ]
  },
  {
   "cell_type": "code",
   "execution_count": 20,
   "id": "66e251d9",
   "metadata": {
    "execution": {
     "iopub.execute_input": "2023-06-28T05:43:52.226172Z",
     "iopub.status.busy": "2023-06-28T05:43:52.225710Z",
     "iopub.status.idle": "2023-06-28T05:43:52.230697Z",
     "shell.execute_reply": "2023-06-28T05:43:52.229371Z"
    },
    "papermill": {
     "duration": 0.02059,
     "end_time": "2023-06-28T05:43:52.233021",
     "exception": false,
     "start_time": "2023-06-28T05:43:52.212431",
     "status": "completed"
    },
    "tags": []
   },
   "outputs": [],
   "source": [
    "#model = lgb.LGBMRegressor(random_state=42)\n",
    "#parameters = {'learning_rate': [0.1, 0.01, 0.001],\n",
    "#              'max_depth': range(1,16),\n",
    "#              'n_estimators': [100, 200, 300],\n",
    "#              'num_leaves':[20,30,40,50]\n",
    "#}\n",
    "#clf = GridSearchCV(model, parameters, cv=5, n_jobs=-1, scoring='r2')\n",
    "#clf.fit(X_train,y_train)"
   ]
  },
  {
   "cell_type": "code",
   "execution_count": 21,
   "id": "dfb0466d",
   "metadata": {
    "execution": {
     "iopub.execute_input": "2023-06-28T05:43:52.258421Z",
     "iopub.status.busy": "2023-06-28T05:43:52.258004Z",
     "iopub.status.idle": "2023-06-28T05:43:52.263027Z",
     "shell.execute_reply": "2023-06-28T05:43:52.261837Z"
    },
    "papermill": {
     "duration": 0.020381,
     "end_time": "2023-06-28T05:43:52.265215",
     "exception": false,
     "start_time": "2023-06-28T05:43:52.244834",
     "status": "completed"
    },
    "tags": []
   },
   "outputs": [],
   "source": [
    "#clf.best_params_"
   ]
  },
  {
   "cell_type": "code",
   "execution_count": 22,
   "id": "0e94c532",
   "metadata": {
    "execution": {
     "iopub.execute_input": "2023-06-28T05:43:52.292271Z",
     "iopub.status.busy": "2023-06-28T05:43:52.291838Z",
     "iopub.status.idle": "2023-06-28T05:43:52.946158Z",
     "shell.execute_reply": "2023-06-28T05:43:52.944919Z"
    },
    "papermill": {
     "duration": 0.671865,
     "end_time": "2023-06-28T05:43:52.948924",
     "exception": false,
     "start_time": "2023-06-28T05:43:52.277059",
     "status": "completed"
    },
    "tags": []
   },
   "outputs": [
    {
     "data": {
      "text/html": [
       "<style>#sk-container-id-3 {color: black;background-color: white;}#sk-container-id-3 pre{padding: 0;}#sk-container-id-3 div.sk-toggleable {background-color: white;}#sk-container-id-3 label.sk-toggleable__label {cursor: pointer;display: block;width: 100%;margin-bottom: 0;padding: 0.3em;box-sizing: border-box;text-align: center;}#sk-container-id-3 label.sk-toggleable__label-arrow:before {content: \"▸\";float: left;margin-right: 0.25em;color: #696969;}#sk-container-id-3 label.sk-toggleable__label-arrow:hover:before {color: black;}#sk-container-id-3 div.sk-estimator:hover label.sk-toggleable__label-arrow:before {color: black;}#sk-container-id-3 div.sk-toggleable__content {max-height: 0;max-width: 0;overflow: hidden;text-align: left;background-color: #f0f8ff;}#sk-container-id-3 div.sk-toggleable__content pre {margin: 0.2em;color: black;border-radius: 0.25em;background-color: #f0f8ff;}#sk-container-id-3 input.sk-toggleable__control:checked~div.sk-toggleable__content {max-height: 200px;max-width: 100%;overflow: auto;}#sk-container-id-3 input.sk-toggleable__control:checked~label.sk-toggleable__label-arrow:before {content: \"▾\";}#sk-container-id-3 div.sk-estimator input.sk-toggleable__control:checked~label.sk-toggleable__label {background-color: #d4ebff;}#sk-container-id-3 div.sk-label input.sk-toggleable__control:checked~label.sk-toggleable__label {background-color: #d4ebff;}#sk-container-id-3 input.sk-hidden--visually {border: 0;clip: rect(1px 1px 1px 1px);clip: rect(1px, 1px, 1px, 1px);height: 1px;margin: -1px;overflow: hidden;padding: 0;position: absolute;width: 1px;}#sk-container-id-3 div.sk-estimator {font-family: monospace;background-color: #f0f8ff;border: 1px dotted black;border-radius: 0.25em;box-sizing: border-box;margin-bottom: 0.5em;}#sk-container-id-3 div.sk-estimator:hover {background-color: #d4ebff;}#sk-container-id-3 div.sk-parallel-item::after {content: \"\";width: 100%;border-bottom: 1px solid gray;flex-grow: 1;}#sk-container-id-3 div.sk-label:hover label.sk-toggleable__label {background-color: #d4ebff;}#sk-container-id-3 div.sk-serial::before {content: \"\";position: absolute;border-left: 1px solid gray;box-sizing: border-box;top: 0;bottom: 0;left: 50%;z-index: 0;}#sk-container-id-3 div.sk-serial {display: flex;flex-direction: column;align-items: center;background-color: white;padding-right: 0.2em;padding-left: 0.2em;position: relative;}#sk-container-id-3 div.sk-item {position: relative;z-index: 1;}#sk-container-id-3 div.sk-parallel {display: flex;align-items: stretch;justify-content: center;background-color: white;position: relative;}#sk-container-id-3 div.sk-item::before, #sk-container-id-3 div.sk-parallel-item::before {content: \"\";position: absolute;border-left: 1px solid gray;box-sizing: border-box;top: 0;bottom: 0;left: 50%;z-index: -1;}#sk-container-id-3 div.sk-parallel-item {display: flex;flex-direction: column;z-index: 1;position: relative;background-color: white;}#sk-container-id-3 div.sk-parallel-item:first-child::after {align-self: flex-end;width: 50%;}#sk-container-id-3 div.sk-parallel-item:last-child::after {align-self: flex-start;width: 50%;}#sk-container-id-3 div.sk-parallel-item:only-child::after {width: 0;}#sk-container-id-3 div.sk-dashed-wrapped {border: 1px dashed gray;margin: 0 0.4em 0.5em 0.4em;box-sizing: border-box;padding-bottom: 0.4em;background-color: white;}#sk-container-id-3 div.sk-label label {font-family: monospace;font-weight: bold;display: inline-block;line-height: 1.2em;}#sk-container-id-3 div.sk-label-container {text-align: center;}#sk-container-id-3 div.sk-container {/* jupyter's `normalize.less` sets `[hidden] { display: none; }` but bootstrap.min.css set `[hidden] { display: none !important; }` so we also need the `!important` here to be able to override the default hidden behavior on the sphinx rendered scikit-learn.org. See: https://github.com/scikit-learn/scikit-learn/issues/21755 */display: inline-block !important;position: relative;}#sk-container-id-3 div.sk-text-repr-fallback {display: none;}</style><div id=\"sk-container-id-3\" class=\"sk-top-container\"><div class=\"sk-text-repr-fallback\"><pre>LGBMRegressor(max_depth=4, n_estimators=300, num_leaves=20, random_state=42,\n",
       "              reg_lambda=0.1)</pre><b>In a Jupyter environment, please rerun this cell to show the HTML representation or trust the notebook. <br />On GitHub, the HTML representation is unable to render, please try loading this page with nbviewer.org.</b></div><div class=\"sk-container\" hidden><div class=\"sk-item\"><div class=\"sk-estimator sk-toggleable\"><input class=\"sk-toggleable__control sk-hidden--visually\" id=\"sk-estimator-id-3\" type=\"checkbox\" checked><label for=\"sk-estimator-id-3\" class=\"sk-toggleable__label sk-toggleable__label-arrow\">LGBMRegressor</label><div class=\"sk-toggleable__content\"><pre>LGBMRegressor(max_depth=4, n_estimators=300, num_leaves=20, random_state=42,\n",
       "              reg_lambda=0.1)</pre></div></div></div></div></div>"
      ],
      "text/plain": [
       "LGBMRegressor(max_depth=4, n_estimators=300, num_leaves=20, random_state=42,\n",
       "              reg_lambda=0.1)"
      ]
     },
     "execution_count": 22,
     "metadata": {},
     "output_type": "execute_result"
    }
   ],
   "source": [
    "lgb_model = lgb.LGBMRegressor(random_state=42,\n",
    "                             learning_rate=0.1,\n",
    "                             max_depth=4, \n",
    "                             n_estimators=300,\n",
    "                             num_leaves=20,\n",
    "                            reg_lambda=0.1\n",
    "                            )\n",
    "lgb_model.fit(X_train, y_train)"
   ]
  },
  {
   "cell_type": "code",
   "execution_count": 23,
   "id": "f6d70c99",
   "metadata": {
    "execution": {
     "iopub.execute_input": "2023-06-28T05:43:52.975704Z",
     "iopub.status.busy": "2023-06-28T05:43:52.975279Z",
     "iopub.status.idle": "2023-06-28T05:43:52.991123Z",
     "shell.execute_reply": "2023-06-28T05:43:52.989980Z"
    },
    "papermill": {
     "duration": 0.032248,
     "end_time": "2023-06-28T05:43:52.993852",
     "exception": false,
     "start_time": "2023-06-28T05:43:52.961604",
     "status": "completed"
    },
    "tags": []
   },
   "outputs": [
    {
     "data": {
      "text/plain": [
       "0.8782744871318297"
      ]
     },
     "execution_count": 23,
     "metadata": {},
     "output_type": "execute_result"
    }
   ],
   "source": [
    "lgb_model.score(X_val,y_val)"
   ]
  },
  {
   "cell_type": "code",
   "execution_count": 24,
   "id": "cbf9625e",
   "metadata": {
    "execution": {
     "iopub.execute_input": "2023-06-28T05:43:53.023334Z",
     "iopub.status.busy": "2023-06-28T05:43:53.022234Z",
     "iopub.status.idle": "2023-06-28T05:43:53.037568Z",
     "shell.execute_reply": "2023-06-28T05:43:53.036409Z"
    },
    "papermill": {
     "duration": 0.032059,
     "end_time": "2023-06-28T05:43:53.040083",
     "exception": false,
     "start_time": "2023-06-28T05:43:53.008024",
     "status": "completed"
    },
    "tags": []
   },
   "outputs": [
    {
     "name": "stdout",
     "output_type": "stream",
     "text": [
      "R2 Score: 0.8782744871318297\n",
      "Mean Absolude Error: 17134.955378912426\n",
      "Mean Square Error: 933674391.4360211\n",
      "Root Mean Square Error: 30556.085996672104\n"
     ]
    }
   ],
   "source": [
    "y_pred=lgb_model.predict(X_val)\n",
    "print('R2 Score:',r2_score(y_true=y_val, y_pred=y_pred))\n",
    "print('Mean Absolude Error:',mean_absolute_error(y_true=y_val, y_pred=y_pred))\n",
    "print('Mean Square Error:',mean_squared_error(y_true=y_val, y_pred=y_pred))\n",
    "print('Root Mean Square Error:',mean_squared_error(y_true=y_val, y_pred=y_pred, squared=False))"
   ]
  },
  {
   "cell_type": "code",
   "execution_count": 25,
   "id": "39feaa84",
   "metadata": {
    "execution": {
     "iopub.execute_input": "2023-06-28T05:43:53.067083Z",
     "iopub.status.busy": "2023-06-28T05:43:53.066345Z",
     "iopub.status.idle": "2023-06-28T05:43:53.105596Z",
     "shell.execute_reply": "2023-06-28T05:43:53.104701Z"
    },
    "papermill": {
     "duration": 0.055237,
     "end_time": "2023-06-28T05:43:53.107987",
     "exception": false,
     "start_time": "2023-06-28T05:43:53.052750",
     "status": "completed"
    },
    "tags": []
   },
   "outputs": [
    {
     "name": "stdout",
     "output_type": "stream",
     "text": [
      "        Id      SalePrice\n",
      "0     1461  131939.898282\n",
      "1     1462  154686.429058\n",
      "2     1463  189697.249371\n",
      "3     1464  199355.785579\n",
      "4     1465  193144.189412\n",
      "...    ...            ...\n",
      "1454  2915   85908.004295\n",
      "1455  2916   79376.878276\n",
      "1456  2917  176021.199165\n",
      "1457  2918  127598.025712\n",
      "1458  2919  197837.669234\n",
      "\n",
      "[1459 rows x 2 columns]\n"
     ]
    }
   ],
   "source": [
    "sample_submission['Id'] = test.reset_index()['Id']\n",
    "sample_submission.SalePrice = lgb_model.predict(X_test)\n",
    "sample_submission.set_index('Id').to_csv('submissionLGB.csv')\n",
    "print(sample_submission)"
   ]
  },
  {
   "cell_type": "markdown",
   "id": "78972c1e",
   "metadata": {
    "papermill": {
     "duration": 0.011974,
     "end_time": "2023-06-28T05:43:53.132505",
     "exception": false,
     "start_time": "2023-06-28T05:43:53.120531",
     "status": "completed"
    },
    "tags": []
   },
   "source": [
    "# Neural Network"
   ]
  },
  {
   "cell_type": "code",
   "execution_count": 26,
   "id": "99f7f9e7",
   "metadata": {
    "execution": {
     "iopub.execute_input": "2023-06-28T05:43:53.159999Z",
     "iopub.status.busy": "2023-06-28T05:43:53.159578Z",
     "iopub.status.idle": "2023-06-28T05:45:30.750340Z",
     "shell.execute_reply": "2023-06-28T05:45:30.749327Z"
    },
    "papermill": {
     "duration": 97.607465,
     "end_time": "2023-06-28T05:45:30.752702",
     "exception": false,
     "start_time": "2023-06-28T05:43:53.145237",
     "status": "completed"
    },
    "tags": []
   },
   "outputs": [
    {
     "name": "stdout",
     "output_type": "stream",
     "text": [
      "Epoch 1/500\n",
      "73/73 [==============================] - 2s 7ms/step - loss: 33357252608.0000 - r_square: -4.5926 - val_loss: 22185302016.0000 - val_r_square: -1.8924\n",
      "Epoch 2/500\n",
      "73/73 [==============================] - 0s 3ms/step - loss: 8545905152.0000 - r_square: -0.4328 - val_loss: 4632074752.0000 - val_r_square: 0.3961\n",
      "Epoch 3/500\n",
      "73/73 [==============================] - 0s 3ms/step - loss: 5093706752.0000 - r_square: 0.1460 - val_loss: 4205006080.0000 - val_r_square: 0.4518\n",
      "Epoch 4/500\n",
      "73/73 [==============================] - 0s 3ms/step - loss: 3958719488.0000 - r_square: 0.3363 - val_loss: 3833277952.0000 - val_r_square: 0.5002\n",
      "Epoch 5/500\n",
      "73/73 [==============================] - 0s 3ms/step - loss: 3394523136.0000 - r_square: 0.4309 - val_loss: 3791199744.0000 - val_r_square: 0.5057\n",
      "Epoch 6/500\n",
      "73/73 [==============================] - 0s 3ms/step - loss: 3026830592.0000 - r_square: 0.4925 - val_loss: 3389504512.0000 - val_r_square: 0.5581\n",
      "Epoch 7/500\n",
      "73/73 [==============================] - 0s 3ms/step - loss: 2803128576.0000 - r_square: 0.5300 - val_loss: 3212064000.0000 - val_r_square: 0.5812\n",
      "Epoch 8/500\n",
      "73/73 [==============================] - 0s 3ms/step - loss: 2633048320.0000 - r_square: 0.5586 - val_loss: 2965438976.0000 - val_r_square: 0.6134\n",
      "Epoch 9/500\n",
      "73/73 [==============================] - 0s 3ms/step - loss: 2514244096.0000 - r_square: 0.5785 - val_loss: 2828310016.0000 - val_r_square: 0.6313\n",
      "Epoch 10/500\n",
      "73/73 [==============================] - 0s 3ms/step - loss: 2394289920.0000 - r_square: 0.5986 - val_loss: 2654501888.0000 - val_r_square: 0.6539\n",
      "Epoch 11/500\n",
      "73/73 [==============================] - 0s 3ms/step - loss: 2325883648.0000 - r_square: 0.6100 - val_loss: 2527623424.0000 - val_r_square: 0.6705\n",
      "Epoch 12/500\n",
      "73/73 [==============================] - 0s 3ms/step - loss: 2258489600.0000 - r_square: 0.6213 - val_loss: 2391404544.0000 - val_r_square: 0.6882\n",
      "Epoch 13/500\n",
      "73/73 [==============================] - 0s 3ms/step - loss: 2171241984.0000 - r_square: 0.6360 - val_loss: 2273411072.0000 - val_r_square: 0.7036\n",
      "Epoch 14/500\n",
      "73/73 [==============================] - 0s 3ms/step - loss: 2135035648.0000 - r_square: 0.6420 - val_loss: 2527549184.0000 - val_r_square: 0.6705\n",
      "Epoch 15/500\n",
      "73/73 [==============================] - 0s 3ms/step - loss: 2176025344.0000 - r_square: 0.6352 - val_loss: 2097451904.0000 - val_r_square: 0.7265\n",
      "Epoch 16/500\n",
      "73/73 [==============================] - 0s 3ms/step - loss: 2053478272.0000 - r_square: 0.6557 - val_loss: 2050117120.0000 - val_r_square: 0.7327\n",
      "Epoch 17/500\n",
      "73/73 [==============================] - 0s 3ms/step - loss: 2075839744.0000 - r_square: 0.6520 - val_loss: 2054418304.0000 - val_r_square: 0.7322\n",
      "Epoch 18/500\n",
      "73/73 [==============================] - 0s 3ms/step - loss: 2093817472.0000 - r_square: 0.6490 - val_loss: 1914854016.0000 - val_r_square: 0.7504\n",
      "Epoch 19/500\n",
      "73/73 [==============================] - 0s 3ms/step - loss: 2018877952.0000 - r_square: 0.6615 - val_loss: 1928190976.0000 - val_r_square: 0.7486\n",
      "Epoch 20/500\n",
      "73/73 [==============================] - 0s 3ms/step - loss: 1999162624.0000 - r_square: 0.6648 - val_loss: 1944772096.0000 - val_r_square: 0.7465\n",
      "Epoch 21/500\n",
      "73/73 [==============================] - 0s 3ms/step - loss: 1993394176.0000 - r_square: 0.6658 - val_loss: 1806983040.0000 - val_r_square: 0.7644\n",
      "Epoch 22/500\n",
      "73/73 [==============================] - 0s 3ms/step - loss: 1993318016.0000 - r_square: 0.6658 - val_loss: 2038880896.0000 - val_r_square: 0.7342\n",
      "Epoch 23/500\n",
      "73/73 [==============================] - 0s 3ms/step - loss: 1963892608.0000 - r_square: 0.6707 - val_loss: 1868372992.0000 - val_r_square: 0.7564\n",
      "Epoch 24/500\n",
      "73/73 [==============================] - 0s 3ms/step - loss: 1939021952.0000 - r_square: 0.6749 - val_loss: 1925022592.0000 - val_r_square: 0.7490\n",
      "Epoch 25/500\n",
      "73/73 [==============================] - 0s 3ms/step - loss: 1967744000.0000 - r_square: 0.6701 - val_loss: 1790231680.0000 - val_r_square: 0.7666\n",
      "Epoch 26/500\n",
      "73/73 [==============================] - 0s 3ms/step - loss: 1928361728.0000 - r_square: 0.6767 - val_loss: 1721909760.0000 - val_r_square: 0.7755\n",
      "Epoch 27/500\n",
      "73/73 [==============================] - 0s 3ms/step - loss: 1919502976.0000 - r_square: 0.6782 - val_loss: 1742409600.0000 - val_r_square: 0.7728\n",
      "Epoch 28/500\n",
      "73/73 [==============================] - 0s 4ms/step - loss: 1912462848.0000 - r_square: 0.6794 - val_loss: 1699308032.0000 - val_r_square: 0.7785\n",
      "Epoch 29/500\n",
      "73/73 [==============================] - 0s 3ms/step - loss: 1888583680.0000 - r_square: 0.6834 - val_loss: 1728827136.0000 - val_r_square: 0.7746\n",
      "Epoch 30/500\n",
      "73/73 [==============================] - 0s 3ms/step - loss: 2010070528.0000 - r_square: 0.6630 - val_loss: 1724460416.0000 - val_r_square: 0.7752\n",
      "Epoch 31/500\n",
      "73/73 [==============================] - 0s 3ms/step - loss: 1889920896.0000 - r_square: 0.6831 - val_loss: 1779667328.0000 - val_r_square: 0.7680\n",
      "Epoch 32/500\n",
      "73/73 [==============================] - 0s 3ms/step - loss: 1932012544.0000 - r_square: 0.6761 - val_loss: 1676304896.0000 - val_r_square: 0.7815\n",
      "Epoch 33/500\n",
      "73/73 [==============================] - 0s 3ms/step - loss: 1916308608.0000 - r_square: 0.6787 - val_loss: 1877859968.0000 - val_r_square: 0.7552\n",
      "Epoch 34/500\n",
      "73/73 [==============================] - 0s 3ms/step - loss: 1902207104.0000 - r_square: 0.6811 - val_loss: 1666235008.0000 - val_r_square: 0.7828\n",
      "Epoch 35/500\n",
      "73/73 [==============================] - 0s 3ms/step - loss: 1920208896.0000 - r_square: 0.6781 - val_loss: 1730354944.0000 - val_r_square: 0.7744\n",
      "Epoch 36/500\n",
      "73/73 [==============================] - 0s 3ms/step - loss: 1852788736.0000 - r_square: 0.6894 - val_loss: 1655325312.0000 - val_r_square: 0.7842\n",
      "Epoch 37/500\n",
      "73/73 [==============================] - 0s 3ms/step - loss: 1850205184.0000 - r_square: 0.6898 - val_loss: 1626699264.0000 - val_r_square: 0.7879\n",
      "Epoch 38/500\n",
      "73/73 [==============================] - 0s 3ms/step - loss: 1881076864.0000 - r_square: 0.6846 - val_loss: 1641329152.0000 - val_r_square: 0.7860\n",
      "Epoch 39/500\n",
      "73/73 [==============================] - 0s 3ms/step - loss: 1875876480.0000 - r_square: 0.6855 - val_loss: 1833515008.0000 - val_r_square: 0.7610\n",
      "Epoch 40/500\n",
      "73/73 [==============================] - 0s 3ms/step - loss: 1857974016.0000 - r_square: 0.6885 - val_loss: 1614035840.0000 - val_r_square: 0.7896\n",
      "Epoch 41/500\n",
      "73/73 [==============================] - 0s 3ms/step - loss: 1831621504.0000 - r_square: 0.6929 - val_loss: 1958721280.0000 - val_r_square: 0.7446\n",
      "Epoch 42/500\n",
      "73/73 [==============================] - 0s 3ms/step - loss: 1879043968.0000 - r_square: 0.6850 - val_loss: 1845311744.0000 - val_r_square: 0.7594\n",
      "Epoch 43/500\n",
      "73/73 [==============================] - 0s 3ms/step - loss: 1828686464.0000 - r_square: 0.6934 - val_loss: 1738287616.0000 - val_r_square: 0.7734\n",
      "Epoch 44/500\n",
      "73/73 [==============================] - 0s 3ms/step - loss: 1885856768.0000 - r_square: 0.6838 - val_loss: 1729170688.0000 - val_r_square: 0.7746\n",
      "Epoch 45/500\n",
      "73/73 [==============================] - 0s 3ms/step - loss: 1834174720.0000 - r_square: 0.6925 - val_loss: 1600718592.0000 - val_r_square: 0.7913\n",
      "Epoch 46/500\n",
      "73/73 [==============================] - 0s 3ms/step - loss: 1842094976.0000 - r_square: 0.6912 - val_loss: 1613098240.0000 - val_r_square: 0.7897\n",
      "Epoch 47/500\n",
      "73/73 [==============================] - 0s 3ms/step - loss: 1799188480.0000 - r_square: 0.6984 - val_loss: 1604067328.0000 - val_r_square: 0.7909\n",
      "Epoch 48/500\n",
      "73/73 [==============================] - 0s 3ms/step - loss: 1804663424.0000 - r_square: 0.6974 - val_loss: 1591680512.0000 - val_r_square: 0.7925\n",
      "Epoch 49/500\n",
      "73/73 [==============================] - 0s 3ms/step - loss: 1801700992.0000 - r_square: 0.6979 - val_loss: 1809143552.0000 - val_r_square: 0.7641\n",
      "Epoch 50/500\n",
      "73/73 [==============================] - 0s 3ms/step - loss: 1876843136.0000 - r_square: 0.6853 - val_loss: 1717704064.0000 - val_r_square: 0.7761\n",
      "Epoch 51/500\n",
      "73/73 [==============================] - 0s 3ms/step - loss: 1808384000.0000 - r_square: 0.6968 - val_loss: 1928649472.0000 - val_r_square: 0.7486\n",
      "Epoch 52/500\n",
      "73/73 [==============================] - 0s 3ms/step - loss: 1780394752.0000 - r_square: 0.7015 - val_loss: 1654904576.0000 - val_r_square: 0.7842\n",
      "Epoch 53/500\n",
      "73/73 [==============================] - 0s 3ms/step - loss: 1773983616.0000 - r_square: 0.7026 - val_loss: 1705797632.0000 - val_r_square: 0.7776\n",
      "Epoch 54/500\n",
      "73/73 [==============================] - 0s 3ms/step - loss: 1786664064.0000 - r_square: 0.7005 - val_loss: 1595181952.0000 - val_r_square: 0.7920\n",
      "Epoch 55/500\n",
      "73/73 [==============================] - 0s 3ms/step - loss: 1753308672.0000 - r_square: 0.7060 - val_loss: 1572173952.0000 - val_r_square: 0.7950\n",
      "Epoch 56/500\n",
      "73/73 [==============================] - 0s 3ms/step - loss: 1767190528.0000 - r_square: 0.7037 - val_loss: 1581054208.0000 - val_r_square: 0.7939\n",
      "Epoch 57/500\n",
      "73/73 [==============================] - 0s 3ms/step - loss: 1749443712.0000 - r_square: 0.7067 - val_loss: 1625534720.0000 - val_r_square: 0.7881\n",
      "Epoch 58/500\n",
      "73/73 [==============================] - 0s 3ms/step - loss: 1788794496.0000 - r_square: 0.7001 - val_loss: 1566860416.0000 - val_r_square: 0.7957\n",
      "Epoch 59/500\n",
      "73/73 [==============================] - 0s 3ms/step - loss: 1743280256.0000 - r_square: 0.7077 - val_loss: 1562812160.0000 - val_r_square: 0.7963\n",
      "Epoch 60/500\n",
      "73/73 [==============================] - 0s 3ms/step - loss: 1750259840.0000 - r_square: 0.7066 - val_loss: 1653530368.0000 - val_r_square: 0.7844\n",
      "Epoch 61/500\n",
      "73/73 [==============================] - 0s 3ms/step - loss: 1719561984.0000 - r_square: 0.7117 - val_loss: 1719401216.0000 - val_r_square: 0.7758\n",
      "Epoch 62/500\n",
      "73/73 [==============================] - 0s 3ms/step - loss: 1762858368.0000 - r_square: 0.7044 - val_loss: 1635464064.0000 - val_r_square: 0.7868\n",
      "Epoch 63/500\n",
      "73/73 [==============================] - 0s 3ms/step - loss: 1711279744.0000 - r_square: 0.7131 - val_loss: 1753545728.0000 - val_r_square: 0.7714\n",
      "Epoch 64/500\n",
      "73/73 [==============================] - 0s 3ms/step - loss: 1770544768.0000 - r_square: 0.7032 - val_loss: 2083142528.0000 - val_r_square: 0.7284\n",
      "Epoch 65/500\n",
      "73/73 [==============================] - 0s 3ms/step - loss: 1767753088.0000 - r_square: 0.7036 - val_loss: 1618223104.0000 - val_r_square: 0.7890\n",
      "Epoch 66/500\n",
      "73/73 [==============================] - 0s 3ms/step - loss: 1741124224.0000 - r_square: 0.7081 - val_loss: 1533839744.0000 - val_r_square: 0.8000\n",
      "Epoch 67/500\n",
      "73/73 [==============================] - 0s 3ms/step - loss: 1691696512.0000 - r_square: 0.7164 - val_loss: 1530572928.0000 - val_r_square: 0.8005\n",
      "Epoch 68/500\n",
      "73/73 [==============================] - 0s 3ms/step - loss: 1710211584.0000 - r_square: 0.7133 - val_loss: 1554680448.0000 - val_r_square: 0.7973\n",
      "Epoch 69/500\n",
      "73/73 [==============================] - 0s 3ms/step - loss: 1677547776.0000 - r_square: 0.7187 - val_loss: 1541993344.0000 - val_r_square: 0.7990\n",
      "Epoch 70/500\n",
      "73/73 [==============================] - 0s 3ms/step - loss: 1697220864.0000 - r_square: 0.7154 - val_loss: 1756924800.0000 - val_r_square: 0.7709\n",
      "Epoch 71/500\n",
      "73/73 [==============================] - 0s 3ms/step - loss: 1681737600.0000 - r_square: 0.7180 - val_loss: 1691796608.0000 - val_r_square: 0.7794\n",
      "Epoch 72/500\n",
      "73/73 [==============================] - 0s 3ms/step - loss: 1691858432.0000 - r_square: 0.7163 - val_loss: 1701700096.0000 - val_r_square: 0.7781\n",
      "Epoch 73/500\n",
      "73/73 [==============================] - 0s 3ms/step - loss: 1700236544.0000 - r_square: 0.7149 - val_loss: 1545480448.0000 - val_r_square: 0.7985\n",
      "Epoch 74/500\n",
      "73/73 [==============================] - 0s 3ms/step - loss: 1701510784.0000 - r_square: 0.7147 - val_loss: 1535108992.0000 - val_r_square: 0.7999\n",
      "Epoch 75/500\n",
      "73/73 [==============================] - 0s 3ms/step - loss: 1653099136.0000 - r_square: 0.7228 - val_loss: 1661302912.0000 - val_r_square: 0.7834\n",
      "Epoch 76/500\n",
      "73/73 [==============================] - 0s 3ms/step - loss: 1683209344.0000 - r_square: 0.7178 - val_loss: 1573955840.0000 - val_r_square: 0.7948\n",
      "Epoch 77/500\n",
      "73/73 [==============================] - 0s 3ms/step - loss: 1676987776.0000 - r_square: 0.7188 - val_loss: 1519530112.0000 - val_r_square: 0.8019\n",
      "Epoch 78/500\n",
      "73/73 [==============================] - 0s 3ms/step - loss: 1636780928.0000 - r_square: 0.7256 - val_loss: 1583454464.0000 - val_r_square: 0.7936\n",
      "Epoch 79/500\n",
      "73/73 [==============================] - 0s 3ms/step - loss: 1659161600.0000 - r_square: 0.7218 - val_loss: 1530025984.0000 - val_r_square: 0.8005\n",
      "Epoch 80/500\n",
      "73/73 [==============================] - 0s 3ms/step - loss: 1655359872.0000 - r_square: 0.7225 - val_loss: 1558544128.0000 - val_r_square: 0.7968\n",
      "Epoch 81/500\n",
      "73/73 [==============================] - 0s 3ms/step - loss: 1677420800.0000 - r_square: 0.7188 - val_loss: 1496672384.0000 - val_r_square: 0.8049\n",
      "Epoch 82/500\n",
      "73/73 [==============================] - 0s 3ms/step - loss: 1664896512.0000 - r_square: 0.7209 - val_loss: 1526800768.0000 - val_r_square: 0.8009\n",
      "Epoch 83/500\n",
      "73/73 [==============================] - 0s 3ms/step - loss: 1602989184.0000 - r_square: 0.7312 - val_loss: 1504250368.0000 - val_r_square: 0.8039\n",
      "Epoch 84/500\n",
      "73/73 [==============================] - 0s 3ms/step - loss: 1605461888.0000 - r_square: 0.7308 - val_loss: 1495086592.0000 - val_r_square: 0.8051\n",
      "Epoch 85/500\n",
      "73/73 [==============================] - 0s 3ms/step - loss: 1617028224.0000 - r_square: 0.7289 - val_loss: 1493387008.0000 - val_r_square: 0.8053\n",
      "Epoch 86/500\n",
      "73/73 [==============================] - 0s 3ms/step - loss: 1620829568.0000 - r_square: 0.7283 - val_loss: 1522805888.0000 - val_r_square: 0.8015\n",
      "Epoch 87/500\n",
      "73/73 [==============================] - 0s 3ms/step - loss: 1608208384.0000 - r_square: 0.7304 - val_loss: 1489684608.0000 - val_r_square: 0.8058\n",
      "Epoch 88/500\n",
      "73/73 [==============================] - 0s 3ms/step - loss: 1622079744.0000 - r_square: 0.7280 - val_loss: 1562014848.0000 - val_r_square: 0.7964\n",
      "Epoch 89/500\n",
      "73/73 [==============================] - 0s 3ms/step - loss: 1589144704.0000 - r_square: 0.7336 - val_loss: 1779128704.0000 - val_r_square: 0.7681\n",
      "Epoch 90/500\n",
      "73/73 [==============================] - 0s 3ms/step - loss: 1570035584.0000 - r_square: 0.7368 - val_loss: 1774178304.0000 - val_r_square: 0.7687\n",
      "Epoch 91/500\n",
      "73/73 [==============================] - 0s 3ms/step - loss: 1575583616.0000 - r_square: 0.7358 - val_loss: 1483603456.0000 - val_r_square: 0.8066\n",
      "Epoch 92/500\n",
      "73/73 [==============================] - 0s 3ms/step - loss: 1570367360.0000 - r_square: 0.7367 - val_loss: 1530425344.0000 - val_r_square: 0.8005\n",
      "Epoch 93/500\n",
      "73/73 [==============================] - 0s 3ms/step - loss: 1572557824.0000 - r_square: 0.7364 - val_loss: 1533176064.0000 - val_r_square: 0.8001\n",
      "Epoch 94/500\n",
      "73/73 [==============================] - 0s 3ms/step - loss: 1559345408.0000 - r_square: 0.7386 - val_loss: 1667162624.0000 - val_r_square: 0.7826\n",
      "Epoch 95/500\n",
      "73/73 [==============================] - 0s 3ms/step - loss: 1576472064.0000 - r_square: 0.7357 - val_loss: 1547042304.0000 - val_r_square: 0.7983\n",
      "Epoch 96/500\n",
      "73/73 [==============================] - 0s 3ms/step - loss: 1549907712.0000 - r_square: 0.7401 - val_loss: 1467684352.0000 - val_r_square: 0.8087\n",
      "Epoch 97/500\n",
      "73/73 [==============================] - 0s 3ms/step - loss: 1560703360.0000 - r_square: 0.7383 - val_loss: 1479152640.0000 - val_r_square: 0.8072\n",
      "Epoch 98/500\n",
      "73/73 [==============================] - 0s 3ms/step - loss: 1508724352.0000 - r_square: 0.7471 - val_loss: 1680437120.0000 - val_r_square: 0.7809\n",
      "Epoch 99/500\n",
      "73/73 [==============================] - 0s 3ms/step - loss: 1526723200.0000 - r_square: 0.7440 - val_loss: 1666373504.0000 - val_r_square: 0.7828\n",
      "Epoch 100/500\n",
      "73/73 [==============================] - 0s 3ms/step - loss: 1613317248.0000 - r_square: 0.7295 - val_loss: 1524116224.0000 - val_r_square: 0.8013\n",
      "Epoch 101/500\n",
      "73/73 [==============================] - 0s 3ms/step - loss: 1535114496.0000 - r_square: 0.7426 - val_loss: 1450970752.0000 - val_r_square: 0.8108\n",
      "Epoch 102/500\n",
      "73/73 [==============================] - 0s 3ms/step - loss: 1529994624.0000 - r_square: 0.7435 - val_loss: 1476058368.0000 - val_r_square: 0.8076\n",
      "Epoch 103/500\n",
      "73/73 [==============================] - 0s 3ms/step - loss: 1610199552.0000 - r_square: 0.7300 - val_loss: 1467096192.0000 - val_r_square: 0.8087\n",
      "Epoch 104/500\n",
      "73/73 [==============================] - 0s 3ms/step - loss: 1577875200.0000 - r_square: 0.7355 - val_loss: 1501695488.0000 - val_r_square: 0.8042\n",
      "Epoch 105/500\n",
      "73/73 [==============================] - 0s 3ms/step - loss: 1490143360.0000 - r_square: 0.7502 - val_loss: 1513217280.0000 - val_r_square: 0.8027\n",
      "Epoch 106/500\n",
      "73/73 [==============================] - 0s 3ms/step - loss: 1494865408.0000 - r_square: 0.7494 - val_loss: 1454446848.0000 - val_r_square: 0.8104\n",
      "Epoch 107/500\n",
      "73/73 [==============================] - 0s 3ms/step - loss: 1512393856.0000 - r_square: 0.7464 - val_loss: 1450043776.0000 - val_r_square: 0.8110\n",
      "Epoch 108/500\n",
      "73/73 [==============================] - 0s 3ms/step - loss: 1495762304.0000 - r_square: 0.7492 - val_loss: 1497613312.0000 - val_r_square: 0.8048\n",
      "Epoch 109/500\n",
      "73/73 [==============================] - 0s 3ms/step - loss: 1467751936.0000 - r_square: 0.7539 - val_loss: 1450031616.0000 - val_r_square: 0.8110\n",
      "Epoch 110/500\n",
      "73/73 [==============================] - 0s 3ms/step - loss: 1506419968.0000 - r_square: 0.7474 - val_loss: 1427584000.0000 - val_r_square: 0.8139\n",
      "Epoch 111/500\n",
      "73/73 [==============================] - 0s 3ms/step - loss: 1490179584.0000 - r_square: 0.7502 - val_loss: 1487303808.0000 - val_r_square: 0.8061\n",
      "Epoch 112/500\n",
      "73/73 [==============================] - 0s 3ms/step - loss: 1452306944.0000 - r_square: 0.7565 - val_loss: 1477457152.0000 - val_r_square: 0.8074\n",
      "Epoch 113/500\n",
      "73/73 [==============================] - 0s 3ms/step - loss: 1469127296.0000 - r_square: 0.7537 - val_loss: 1408569216.0000 - val_r_square: 0.8164\n",
      "Epoch 114/500\n",
      "73/73 [==============================] - 0s 3ms/step - loss: 1461737728.0000 - r_square: 0.7549 - val_loss: 1629536128.0000 - val_r_square: 0.7876\n",
      "Epoch 115/500\n",
      "73/73 [==============================] - 0s 3ms/step - loss: 1469625984.0000 - r_square: 0.7536 - val_loss: 1498029568.0000 - val_r_square: 0.8047\n",
      "Epoch 116/500\n",
      "73/73 [==============================] - 0s 3ms/step - loss: 1496301952.0000 - r_square: 0.7491 - val_loss: 1479963392.0000 - val_r_square: 0.8071\n",
      "Epoch 117/500\n",
      "73/73 [==============================] - 0s 3ms/step - loss: 1507188608.0000 - r_square: 0.7473 - val_loss: 1438504832.0000 - val_r_square: 0.8125\n",
      "Epoch 118/500\n",
      "73/73 [==============================] - 0s 3ms/step - loss: 1429831168.0000 - r_square: 0.7603 - val_loss: 1744060544.0000 - val_r_square: 0.7726\n",
      "Epoch 119/500\n",
      "73/73 [==============================] - 0s 3ms/step - loss: 1444805248.0000 - r_square: 0.7578 - val_loss: 1413541504.0000 - val_r_square: 0.8157\n",
      "Epoch 120/500\n",
      "73/73 [==============================] - 0s 3ms/step - loss: 1424855680.0000 - r_square: 0.7611 - val_loss: 1404463872.0000 - val_r_square: 0.8169\n",
      "Epoch 121/500\n",
      "73/73 [==============================] - 0s 3ms/step - loss: 1447684480.0000 - r_square: 0.7573 - val_loss: 1411881472.0000 - val_r_square: 0.8159\n",
      "Epoch 122/500\n",
      "73/73 [==============================] - 0s 3ms/step - loss: 1396817920.0000 - r_square: 0.7658 - val_loss: 1402125568.0000 - val_r_square: 0.8172\n",
      "Epoch 123/500\n",
      "73/73 [==============================] - 0s 3ms/step - loss: 1419365120.0000 - r_square: 0.7620 - val_loss: 1373582592.0000 - val_r_square: 0.8209\n",
      "Epoch 124/500\n",
      "73/73 [==============================] - 0s 3ms/step - loss: 1406392960.0000 - r_square: 0.7642 - val_loss: 1588031488.0000 - val_r_square: 0.7930\n",
      "Epoch 125/500\n",
      "73/73 [==============================] - 0s 3ms/step - loss: 1422795008.0000 - r_square: 0.7615 - val_loss: 1484161280.0000 - val_r_square: 0.8065\n",
      "Epoch 126/500\n",
      "73/73 [==============================] - 0s 3ms/step - loss: 1398929152.0000 - r_square: 0.7655 - val_loss: 1387669120.0000 - val_r_square: 0.8191\n",
      "Epoch 127/500\n",
      "73/73 [==============================] - 0s 3ms/step - loss: 1400829184.0000 - r_square: 0.7651 - val_loss: 1398156288.0000 - val_r_square: 0.8177\n",
      "Epoch 128/500\n",
      "73/73 [==============================] - 0s 3ms/step - loss: 1424366720.0000 - r_square: 0.7612 - val_loss: 1359771392.0000 - val_r_square: 0.8227\n",
      "Epoch 129/500\n",
      "73/73 [==============================] - 0s 3ms/step - loss: 1368356480.0000 - r_square: 0.7706 - val_loss: 1381864832.0000 - val_r_square: 0.8198\n",
      "Epoch 130/500\n",
      "73/73 [==============================] - 0s 3ms/step - loss: 1377417728.0000 - r_square: 0.7691 - val_loss: 1376744192.0000 - val_r_square: 0.8205\n",
      "Epoch 131/500\n",
      "73/73 [==============================] - 0s 3ms/step - loss: 1347027328.0000 - r_square: 0.7742 - val_loss: 1369579136.0000 - val_r_square: 0.8214\n",
      "Epoch 132/500\n",
      "73/73 [==============================] - 0s 3ms/step - loss: 1420431104.0000 - r_square: 0.7619 - val_loss: 1375499392.0000 - val_r_square: 0.8207\n",
      "Epoch 133/500\n",
      "73/73 [==============================] - 0s 3ms/step - loss: 1340871040.0000 - r_square: 0.7752 - val_loss: 1564400128.0000 - val_r_square: 0.7960\n",
      "Epoch 134/500\n",
      "73/73 [==============================] - 0s 3ms/step - loss: 1423005184.0000 - r_square: 0.7614 - val_loss: 1346791424.0000 - val_r_square: 0.8244\n",
      "Epoch 135/500\n",
      "73/73 [==============================] - 0s 3ms/step - loss: 1355127424.0000 - r_square: 0.7728 - val_loss: 1350373376.0000 - val_r_square: 0.8239\n",
      "Epoch 136/500\n",
      "73/73 [==============================] - 0s 3ms/step - loss: 1334751616.0000 - r_square: 0.7762 - val_loss: 1343068928.0000 - val_r_square: 0.8249\n",
      "Epoch 137/500\n",
      "73/73 [==============================] - 0s 3ms/step - loss: 1334705152.0000 - r_square: 0.7762 - val_loss: 1328238336.0000 - val_r_square: 0.8268\n",
      "Epoch 138/500\n",
      "73/73 [==============================] - 0s 3ms/step - loss: 1312308224.0000 - r_square: 0.7800 - val_loss: 1572739584.0000 - val_r_square: 0.7950\n",
      "Epoch 139/500\n",
      "73/73 [==============================] - 0s 3ms/step - loss: 1326036864.0000 - r_square: 0.7777 - val_loss: 1356648448.0000 - val_r_square: 0.8231\n",
      "Epoch 140/500\n",
      "73/73 [==============================] - 0s 3ms/step - loss: 1311954688.0000 - r_square: 0.7800 - val_loss: 1348021888.0000 - val_r_square: 0.8243\n",
      "Epoch 141/500\n",
      "73/73 [==============================] - 0s 3ms/step - loss: 1336310272.0000 - r_square: 0.7760 - val_loss: 1352278528.0000 - val_r_square: 0.8237\n",
      "Epoch 142/500\n",
      "73/73 [==============================] - 0s 3ms/step - loss: 1276548864.0000 - r_square: 0.7860 - val_loss: 1341107712.0000 - val_r_square: 0.8252\n",
      "Epoch 143/500\n",
      "73/73 [==============================] - 0s 3ms/step - loss: 1293046144.0000 - r_square: 0.7832 - val_loss: 1341476352.0000 - val_r_square: 0.8251\n",
      "Epoch 144/500\n",
      "73/73 [==============================] - 0s 3ms/step - loss: 1317276800.0000 - r_square: 0.7791 - val_loss: 1320968448.0000 - val_r_square: 0.8278\n",
      "Epoch 145/500\n",
      "73/73 [==============================] - 0s 3ms/step - loss: 1279426944.0000 - r_square: 0.7855 - val_loss: 1276327808.0000 - val_r_square: 0.8336\n",
      "Epoch 146/500\n",
      "73/73 [==============================] - 0s 3ms/step - loss: 1279554432.0000 - r_square: 0.7855 - val_loss: 1288123648.0000 - val_r_square: 0.8321\n",
      "Epoch 147/500\n",
      "73/73 [==============================] - 0s 3ms/step - loss: 1279569024.0000 - r_square: 0.7855 - val_loss: 1309222272.0000 - val_r_square: 0.8293\n",
      "Epoch 148/500\n",
      "73/73 [==============================] - 0s 3ms/step - loss: 1293043456.0000 - r_square: 0.7832 - val_loss: 1308378368.0000 - val_r_square: 0.8294\n",
      "Epoch 149/500\n",
      "73/73 [==============================] - 0s 3ms/step - loss: 1290567808.0000 - r_square: 0.7836 - val_loss: 1279512064.0000 - val_r_square: 0.8332\n",
      "Epoch 150/500\n",
      "73/73 [==============================] - 0s 3ms/step - loss: 1231302272.0000 - r_square: 0.7936 - val_loss: 1288020224.0000 - val_r_square: 0.8321\n",
      "Epoch 151/500\n",
      "73/73 [==============================] - 0s 3ms/step - loss: 1265446656.0000 - r_square: 0.7878 - val_loss: 1291320832.0000 - val_r_square: 0.8316\n",
      "Epoch 152/500\n",
      "73/73 [==============================] - 0s 3ms/step - loss: 1220964352.0000 - r_square: 0.7953 - val_loss: 1433578496.0000 - val_r_square: 0.8131\n",
      "Epoch 153/500\n",
      "73/73 [==============================] - 0s 3ms/step - loss: 1241535744.0000 - r_square: 0.7918 - val_loss: 1304371968.0000 - val_r_square: 0.8299\n",
      "Epoch 154/500\n",
      "73/73 [==============================] - 0s 3ms/step - loss: 1219970432.0000 - r_square: 0.7955 - val_loss: 1244955648.0000 - val_r_square: 0.8377\n",
      "Epoch 155/500\n",
      "73/73 [==============================] - 0s 3ms/step - loss: 1273784576.0000 - r_square: 0.7864 - val_loss: 1283152640.0000 - val_r_square: 0.8327\n",
      "Epoch 156/500\n",
      "73/73 [==============================] - 0s 3ms/step - loss: 1226440064.0000 - r_square: 0.7944 - val_loss: 1429625856.0000 - val_r_square: 0.8136\n",
      "Epoch 157/500\n",
      "73/73 [==============================] - 0s 3ms/step - loss: 1214226176.0000 - r_square: 0.7964 - val_loss: 1309543552.0000 - val_r_square: 0.8293\n",
      "Epoch 158/500\n",
      "73/73 [==============================] - 0s 3ms/step - loss: 1214156928.0000 - r_square: 0.7964 - val_loss: 1315569792.0000 - val_r_square: 0.8285\n",
      "Epoch 159/500\n",
      "73/73 [==============================] - 0s 3ms/step - loss: 1171791360.0000 - r_square: 0.8035 - val_loss: 1389945344.0000 - val_r_square: 0.8188\n",
      "Epoch 160/500\n",
      "73/73 [==============================] - 0s 3ms/step - loss: 1226831616.0000 - r_square: 0.7943 - val_loss: 1227139584.0000 - val_r_square: 0.8400\n",
      "Epoch 161/500\n",
      "73/73 [==============================] - 0s 3ms/step - loss: 1188179712.0000 - r_square: 0.8008 - val_loss: 1293645184.0000 - val_r_square: 0.8313\n",
      "Epoch 162/500\n",
      "73/73 [==============================] - 0s 3ms/step - loss: 1208921216.0000 - r_square: 0.7973 - val_loss: 1277475200.0000 - val_r_square: 0.8335\n",
      "Epoch 163/500\n",
      "73/73 [==============================] - 0s 3ms/step - loss: 1211143168.0000 - r_square: 0.7969 - val_loss: 1242669952.0000 - val_r_square: 0.8380\n",
      "Epoch 164/500\n",
      "73/73 [==============================] - 0s 3ms/step - loss: 1180532992.0000 - r_square: 0.8021 - val_loss: 1240985088.0000 - val_r_square: 0.8382\n",
      "Epoch 165/500\n",
      "73/73 [==============================] - 0s 3ms/step - loss: 1134104832.0000 - r_square: 0.8099 - val_loss: 1199879552.0000 - val_r_square: 0.8436\n",
      "Epoch 166/500\n",
      "73/73 [==============================] - 0s 3ms/step - loss: 1259659520.0000 - r_square: 0.7888 - val_loss: 1280484096.0000 - val_r_square: 0.8331\n",
      "Epoch 167/500\n",
      "73/73 [==============================] - 0s 3ms/step - loss: 1162587264.0000 - r_square: 0.8051 - val_loss: 1217655424.0000 - val_r_square: 0.8413\n",
      "Epoch 168/500\n",
      "73/73 [==============================] - 0s 3ms/step - loss: 1154228480.0000 - r_square: 0.8065 - val_loss: 1225868160.0000 - val_r_square: 0.8402\n",
      "Epoch 169/500\n",
      "73/73 [==============================] - 0s 3ms/step - loss: 1121889024.0000 - r_square: 0.8119 - val_loss: 1227083264.0000 - val_r_square: 0.8400\n",
      "Epoch 170/500\n",
      "73/73 [==============================] - 0s 3ms/step - loss: 1133107968.0000 - r_square: 0.8100 - val_loss: 1189203072.0000 - val_r_square: 0.8450\n",
      "Epoch 171/500\n",
      "73/73 [==============================] - 0s 3ms/step - loss: 1156438272.0000 - r_square: 0.8061 - val_loss: 1231891712.0000 - val_r_square: 0.8394\n",
      "Epoch 172/500\n",
      "73/73 [==============================] - 0s 3ms/step - loss: 1160455808.0000 - r_square: 0.8054 - val_loss: 1209865856.0000 - val_r_square: 0.8423\n",
      "Epoch 173/500\n",
      "73/73 [==============================] - 0s 3ms/step - loss: 1136265856.0000 - r_square: 0.8095 - val_loss: 1186883584.0000 - val_r_square: 0.8453\n",
      "Epoch 174/500\n",
      "73/73 [==============================] - 0s 3ms/step - loss: 1133195264.0000 - r_square: 0.8100 - val_loss: 1248368256.0000 - val_r_square: 0.8372\n",
      "Epoch 175/500\n",
      "73/73 [==============================] - 0s 3ms/step - loss: 1131754368.0000 - r_square: 0.8103 - val_loss: 1245484416.0000 - val_r_square: 0.8376\n",
      "Epoch 176/500\n",
      "73/73 [==============================] - 0s 3ms/step - loss: 1136883840.0000 - r_square: 0.8094 - val_loss: 1208422784.0000 - val_r_square: 0.8425\n",
      "Epoch 177/500\n",
      "73/73 [==============================] - 0s 3ms/step - loss: 1145870336.0000 - r_square: 0.8079 - val_loss: 1190765440.0000 - val_r_square: 0.8448\n",
      "Epoch 178/500\n",
      "73/73 [==============================] - 0s 3ms/step - loss: 1096041728.0000 - r_square: 0.8162 - val_loss: 1263143168.0000 - val_r_square: 0.8353\n",
      "Epoch 179/500\n",
      "73/73 [==============================] - 0s 3ms/step - loss: 1089687552.0000 - r_square: 0.8173 - val_loss: 1166633600.0000 - val_r_square: 0.8479\n",
      "Epoch 180/500\n",
      "73/73 [==============================] - 0s 3ms/step - loss: 1104117504.0000 - r_square: 0.8149 - val_loss: 1198099328.0000 - val_r_square: 0.8438\n",
      "Epoch 181/500\n",
      "73/73 [==============================] - 0s 3ms/step - loss: 1088761984.0000 - r_square: 0.8175 - val_loss: 1258590848.0000 - val_r_square: 0.8359\n",
      "Epoch 182/500\n",
      "73/73 [==============================] - 0s 3ms/step - loss: 1095835904.0000 - r_square: 0.8163 - val_loss: 1147978624.0000 - val_r_square: 0.8503\n",
      "Epoch 183/500\n",
      "73/73 [==============================] - 0s 3ms/step - loss: 1087885056.0000 - r_square: 0.8176 - val_loss: 1147351296.0000 - val_r_square: 0.8504\n",
      "Epoch 184/500\n",
      "73/73 [==============================] - 0s 3ms/step - loss: 1087214720.0000 - r_square: 0.8177 - val_loss: 1161434368.0000 - val_r_square: 0.8486\n",
      "Epoch 185/500\n",
      "73/73 [==============================] - 0s 3ms/step - loss: 1066670784.0000 - r_square: 0.8212 - val_loss: 1131725184.0000 - val_r_square: 0.8525\n",
      "Epoch 186/500\n",
      "73/73 [==============================] - 0s 3ms/step - loss: 1052344768.0000 - r_square: 0.8236 - val_loss: 1132682112.0000 - val_r_square: 0.8523\n",
      "Epoch 187/500\n",
      "73/73 [==============================] - 0s 3ms/step - loss: 1023467968.0000 - r_square: 0.8284 - val_loss: 1221181312.0000 - val_r_square: 0.8408\n",
      "Epoch 188/500\n",
      "73/73 [==============================] - 0s 3ms/step - loss: 1041840704.0000 - r_square: 0.8253 - val_loss: 1127134336.0000 - val_r_square: 0.8531\n",
      "Epoch 189/500\n",
      "73/73 [==============================] - 0s 3ms/step - loss: 1035214080.0000 - r_square: 0.8264 - val_loss: 1180025856.0000 - val_r_square: 0.8462\n",
      "Epoch 190/500\n",
      "73/73 [==============================] - 0s 3ms/step - loss: 1041100416.0000 - r_square: 0.8255 - val_loss: 1110290176.0000 - val_r_square: 0.8552\n",
      "Epoch 191/500\n",
      "73/73 [==============================] - 0s 3ms/step - loss: 1055327808.0000 - r_square: 0.8231 - val_loss: 1124667776.0000 - val_r_square: 0.8534\n",
      "Epoch 192/500\n",
      "73/73 [==============================] - 0s 3ms/step - loss: 1015268992.0000 - r_square: 0.8298 - val_loss: 1099083264.0000 - val_r_square: 0.8567\n",
      "Epoch 193/500\n",
      "73/73 [==============================] - 0s 3ms/step - loss: 1003342720.0000 - r_square: 0.8318 - val_loss: 1082855936.0000 - val_r_square: 0.8588\n",
      "Epoch 194/500\n",
      "73/73 [==============================] - 0s 3ms/step - loss: 1012694464.0000 - r_square: 0.8302 - val_loss: 1171097344.0000 - val_r_square: 0.8473\n",
      "Epoch 195/500\n",
      "73/73 [==============================] - 0s 3ms/step - loss: 1013188928.0000 - r_square: 0.8301 - val_loss: 1109602304.0000 - val_r_square: 0.8553\n",
      "Epoch 196/500\n",
      "73/73 [==============================] - 0s 3ms/step - loss: 1040852544.0000 - r_square: 0.8255 - val_loss: 1077615360.0000 - val_r_square: 0.8595\n",
      "Epoch 197/500\n",
      "73/73 [==============================] - 0s 3ms/step - loss: 993181248.0000 - r_square: 0.8335 - val_loss: 1108083200.0000 - val_r_square: 0.8555\n",
      "Epoch 198/500\n",
      "73/73 [==============================] - 0s 3ms/step - loss: 981622528.0000 - r_square: 0.8354 - val_loss: 1065070656.0000 - val_r_square: 0.8611\n",
      "Epoch 199/500\n",
      "73/73 [==============================] - 0s 3ms/step - loss: 990399104.0000 - r_square: 0.8340 - val_loss: 1088500096.0000 - val_r_square: 0.8581\n",
      "Epoch 200/500\n",
      "73/73 [==============================] - 0s 3ms/step - loss: 980038336.0000 - r_square: 0.8357 - val_loss: 1079796480.0000 - val_r_square: 0.8592\n",
      "Epoch 201/500\n",
      "73/73 [==============================] - 0s 3ms/step - loss: 975150976.0000 - r_square: 0.8365 - val_loss: 1112990592.0000 - val_r_square: 0.8549\n",
      "Epoch 202/500\n",
      "73/73 [==============================] - 0s 3ms/step - loss: 955347648.0000 - r_square: 0.8398 - val_loss: 1134882816.0000 - val_r_square: 0.8520\n",
      "Epoch 203/500\n",
      "73/73 [==============================] - 0s 3ms/step - loss: 990563712.0000 - r_square: 0.8339 - val_loss: 1079783552.0000 - val_r_square: 0.8592\n",
      "Epoch 204/500\n",
      "73/73 [==============================] - 0s 3ms/step - loss: 924021824.0000 - r_square: 0.8451 - val_loss: 1062152704.0000 - val_r_square: 0.8615\n",
      "Epoch 205/500\n",
      "73/73 [==============================] - 0s 3ms/step - loss: 985248128.0000 - r_square: 0.8348 - val_loss: 1114558208.0000 - val_r_square: 0.8547\n",
      "Epoch 206/500\n",
      "73/73 [==============================] - 0s 3ms/step - loss: 972350144.0000 - r_square: 0.8370 - val_loss: 1125168896.0000 - val_r_square: 0.8533\n",
      "Epoch 207/500\n",
      "73/73 [==============================] - 0s 3ms/step - loss: 967847424.0000 - r_square: 0.8377 - val_loss: 1324945152.0000 - val_r_square: 0.8273\n",
      "Epoch 208/500\n",
      "73/73 [==============================] - 0s 3ms/step - loss: 963663552.0000 - r_square: 0.8384 - val_loss: 1072526912.0000 - val_r_square: 0.8602\n",
      "Epoch 209/500\n",
      "73/73 [==============================] - 0s 3ms/step - loss: 971003840.0000 - r_square: 0.8372 - val_loss: 1035711168.0000 - val_r_square: 0.8650\n",
      "Epoch 210/500\n",
      "73/73 [==============================] - 0s 3ms/step - loss: 908207040.0000 - r_square: 0.8477 - val_loss: 1070336768.0000 - val_r_square: 0.8605\n",
      "Epoch 211/500\n",
      "73/73 [==============================] - 0s 3ms/step - loss: 929250432.0000 - r_square: 0.8442 - val_loss: 1014896192.0000 - val_r_square: 0.8677\n",
      "Epoch 212/500\n",
      "73/73 [==============================] - 0s 3ms/step - loss: 945636992.0000 - r_square: 0.8415 - val_loss: 1040960704.0000 - val_r_square: 0.8643\n",
      "Epoch 213/500\n",
      "73/73 [==============================] - 0s 3ms/step - loss: 907652096.0000 - r_square: 0.8478 - val_loss: 1013115328.0000 - val_r_square: 0.8679\n",
      "Epoch 214/500\n",
      "73/73 [==============================] - 0s 3ms/step - loss: 921115520.0000 - r_square: 0.8456 - val_loss: 1039051200.0000 - val_r_square: 0.8645\n",
      "Epoch 215/500\n",
      "73/73 [==============================] - 0s 3ms/step - loss: 894943744.0000 - r_square: 0.8500 - val_loss: 1000543040.0000 - val_r_square: 0.8696\n",
      "Epoch 216/500\n",
      "73/73 [==============================] - 0s 3ms/step - loss: 884379840.0000 - r_square: 0.8517 - val_loss: 1065020032.0000 - val_r_square: 0.8612\n",
      "Epoch 217/500\n",
      "73/73 [==============================] - 0s 3ms/step - loss: 892460800.0000 - r_square: 0.8504 - val_loss: 966224640.0000 - val_r_square: 0.8740\n",
      "Epoch 218/500\n",
      "73/73 [==============================] - 0s 3ms/step - loss: 887747264.0000 - r_square: 0.8512 - val_loss: 989233152.0000 - val_r_square: 0.8710\n",
      "Epoch 219/500\n",
      "73/73 [==============================] - 0s 3ms/step - loss: 863484608.0000 - r_square: 0.8552 - val_loss: 997654848.0000 - val_r_square: 0.8699\n",
      "Epoch 220/500\n",
      "73/73 [==============================] - 0s 3ms/step - loss: 901990080.0000 - r_square: 0.8488 - val_loss: 1099314944.0000 - val_r_square: 0.8567\n",
      "Epoch 221/500\n",
      "73/73 [==============================] - 0s 3ms/step - loss: 898628864.0000 - r_square: 0.8493 - val_loss: 1373973632.0000 - val_r_square: 0.8209\n",
      "Epoch 222/500\n",
      "73/73 [==============================] - 0s 3ms/step - loss: 880189120.0000 - r_square: 0.8524 - val_loss: 956942656.0000 - val_r_square: 0.8752\n",
      "Epoch 223/500\n",
      "73/73 [==============================] - 0s 3ms/step - loss: 862512768.0000 - r_square: 0.8554 - val_loss: 988699072.0000 - val_r_square: 0.8711\n",
      "Epoch 224/500\n",
      "73/73 [==============================] - 0s 3ms/step - loss: 866092160.0000 - r_square: 0.8548 - val_loss: 941631680.0000 - val_r_square: 0.8772\n",
      "Epoch 225/500\n",
      "73/73 [==============================] - 0s 3ms/step - loss: 862206336.0000 - r_square: 0.8554 - val_loss: 954675392.0000 - val_r_square: 0.8755\n",
      "Epoch 226/500\n",
      "73/73 [==============================] - 0s 3ms/step - loss: 900334720.0000 - r_square: 0.8491 - val_loss: 962871744.0000 - val_r_square: 0.8745\n",
      "Epoch 227/500\n",
      "73/73 [==============================] - 0s 3ms/step - loss: 848219008.0000 - r_square: 0.8578 - val_loss: 960427392.0000 - val_r_square: 0.8748\n",
      "Epoch 228/500\n",
      "73/73 [==============================] - 0s 3ms/step - loss: 838436416.0000 - r_square: 0.8594 - val_loss: 946975424.0000 - val_r_square: 0.8765\n",
      "Epoch 229/500\n",
      "73/73 [==============================] - 0s 3ms/step - loss: 885501248.0000 - r_square: 0.8515 - val_loss: 1039250560.0000 - val_r_square: 0.8645\n",
      "Epoch 230/500\n",
      "73/73 [==============================] - 0s 3ms/step - loss: 888970432.0000 - r_square: 0.8510 - val_loss: 917823296.0000 - val_r_square: 0.8803\n",
      "Epoch 231/500\n",
      "73/73 [==============================] - 0s 3ms/step - loss: 836727872.0000 - r_square: 0.8597 - val_loss: 948836928.0000 - val_r_square: 0.8763\n",
      "Epoch 232/500\n",
      "73/73 [==============================] - 0s 3ms/step - loss: 835554048.0000 - r_square: 0.8599 - val_loss: 980923200.0000 - val_r_square: 0.8721\n",
      "Epoch 233/500\n",
      "73/73 [==============================] - 0s 3ms/step - loss: 842609984.0000 - r_square: 0.8587 - val_loss: 968777984.0000 - val_r_square: 0.8737\n",
      "Epoch 234/500\n",
      "73/73 [==============================] - 0s 3ms/step - loss: 851853056.0000 - r_square: 0.8572 - val_loss: 967953024.0000 - val_r_square: 0.8738\n",
      "Epoch 235/500\n",
      "73/73 [==============================] - 0s 3ms/step - loss: 847769344.0000 - r_square: 0.8579 - val_loss: 1109441408.0000 - val_r_square: 0.8554\n",
      "Epoch 236/500\n",
      "73/73 [==============================] - 0s 3ms/step - loss: 790811008.0000 - r_square: 0.8674 - val_loss: 969250624.0000 - val_r_square: 0.8736\n",
      "Epoch 237/500\n",
      "73/73 [==============================] - 0s 3ms/step - loss: 811581184.0000 - r_square: 0.8639 - val_loss: 997459392.0000 - val_r_square: 0.8700\n",
      "Epoch 238/500\n",
      "73/73 [==============================] - 0s 3ms/step - loss: 832578240.0000 - r_square: 0.8604 - val_loss: 938978688.0000 - val_r_square: 0.8776\n",
      "Epoch 239/500\n",
      "73/73 [==============================] - 0s 3ms/step - loss: 777802176.0000 - r_square: 0.8696 - val_loss: 991924032.0000 - val_r_square: 0.8707\n",
      "Epoch 240/500\n",
      "73/73 [==============================] - 0s 3ms/step - loss: 827857536.0000 - r_square: 0.8612 - val_loss: 932215744.0000 - val_r_square: 0.8785\n",
      "Epoch 241/500\n",
      "73/73 [==============================] - 0s 3ms/step - loss: 791688320.0000 - r_square: 0.8673 - val_loss: 906140928.0000 - val_r_square: 0.8819\n",
      "Epoch 242/500\n",
      "73/73 [==============================] - 0s 3ms/step - loss: 805313792.0000 - r_square: 0.8650 - val_loss: 910078336.0000 - val_r_square: 0.8814\n",
      "Epoch 243/500\n",
      "73/73 [==============================] - 0s 3ms/step - loss: 774401472.0000 - r_square: 0.8702 - val_loss: 906701056.0000 - val_r_square: 0.8818\n",
      "Epoch 244/500\n",
      "73/73 [==============================] - 0s 3ms/step - loss: 770450240.0000 - r_square: 0.8708 - val_loss: 921776320.0000 - val_r_square: 0.8798\n",
      "Epoch 245/500\n",
      "73/73 [==============================] - 0s 3ms/step - loss: 782022656.0000 - r_square: 0.8689 - val_loss: 892367616.0000 - val_r_square: 0.8837\n",
      "Epoch 246/500\n",
      "73/73 [==============================] - 0s 3ms/step - loss: 739797632.0000 - r_square: 0.8760 - val_loss: 940922944.0000 - val_r_square: 0.8773\n",
      "Epoch 247/500\n",
      "73/73 [==============================] - 0s 3ms/step - loss: 768527680.0000 - r_square: 0.8712 - val_loss: 918546176.0000 - val_r_square: 0.8802\n",
      "Epoch 248/500\n",
      "73/73 [==============================] - 0s 3ms/step - loss: 755854400.0000 - r_square: 0.8733 - val_loss: 955552704.0000 - val_r_square: 0.8754\n",
      "Epoch 249/500\n",
      "73/73 [==============================] - 0s 3ms/step - loss: 767421632.0000 - r_square: 0.8713 - val_loss: 897323392.0000 - val_r_square: 0.8830\n",
      "Epoch 250/500\n",
      "73/73 [==============================] - 0s 3ms/step - loss: 765967296.0000 - r_square: 0.8716 - val_loss: 912973312.0000 - val_r_square: 0.8810\n",
      "Epoch 251/500\n",
      "73/73 [==============================] - 0s 3ms/step - loss: 763670016.0000 - r_square: 0.8720 - val_loss: 875797504.0000 - val_r_square: 0.8858\n",
      "Epoch 252/500\n",
      "73/73 [==============================] - 0s 3ms/step - loss: 752005120.0000 - r_square: 0.8739 - val_loss: 859372416.0000 - val_r_square: 0.8880\n",
      "Epoch 253/500\n",
      "73/73 [==============================] - 0s 3ms/step - loss: 720587328.0000 - r_square: 0.8792 - val_loss: 915486016.0000 - val_r_square: 0.8806\n",
      "Epoch 254/500\n",
      "73/73 [==============================] - 0s 3ms/step - loss: 747480512.0000 - r_square: 0.8747 - val_loss: 850843968.0000 - val_r_square: 0.8891\n",
      "Epoch 255/500\n",
      "73/73 [==============================] - 0s 3ms/step - loss: 739920128.0000 - r_square: 0.8759 - val_loss: 879840128.0000 - val_r_square: 0.8853\n",
      "Epoch 256/500\n",
      "73/73 [==============================] - 0s 3ms/step - loss: 731209024.0000 - r_square: 0.8774 - val_loss: 854758080.0000 - val_r_square: 0.8886\n",
      "Epoch 257/500\n",
      "73/73 [==============================] - 0s 3ms/step - loss: 704050240.0000 - r_square: 0.8820 - val_loss: 872448448.0000 - val_r_square: 0.8863\n",
      "Epoch 258/500\n",
      "73/73 [==============================] - 0s 3ms/step - loss: 744510656.0000 - r_square: 0.8752 - val_loss: 885485760.0000 - val_r_square: 0.8846\n",
      "Epoch 259/500\n",
      "73/73 [==============================] - 0s 3ms/step - loss: 725660160.0000 - r_square: 0.8783 - val_loss: 894633664.0000 - val_r_square: 0.8834\n",
      "Epoch 260/500\n",
      "73/73 [==============================] - 0s 3ms/step - loss: 737407104.0000 - r_square: 0.8764 - val_loss: 853626624.0000 - val_r_square: 0.8887\n",
      "Epoch 261/500\n",
      "73/73 [==============================] - 0s 3ms/step - loss: 701592384.0000 - r_square: 0.8824 - val_loss: 869374848.0000 - val_r_square: 0.8867\n",
      "Epoch 262/500\n",
      "73/73 [==============================] - 0s 3ms/step - loss: 705925952.0000 - r_square: 0.8816 - val_loss: 901120192.0000 - val_r_square: 0.8825\n",
      "Epoch 263/500\n",
      "73/73 [==============================] - 0s 3ms/step - loss: 723251456.0000 - r_square: 0.8787 - val_loss: 1082782848.0000 - val_r_square: 0.8588\n",
      "Epoch 264/500\n",
      "73/73 [==============================] - 0s 3ms/step - loss: 762577472.0000 - r_square: 0.8721 - val_loss: 866212288.0000 - val_r_square: 0.8871\n",
      "Epoch 265/500\n",
      "73/73 [==============================] - 0s 3ms/step - loss: 701907840.0000 - r_square: 0.8823 - val_loss: 866754944.0000 - val_r_square: 0.8870\n",
      "Epoch 266/500\n",
      "73/73 [==============================] - 0s 3ms/step - loss: 702264256.0000 - r_square: 0.8823 - val_loss: 840590336.0000 - val_r_square: 0.8904\n",
      "Epoch 267/500\n",
      "73/73 [==============================] - 0s 3ms/step - loss: 692042624.0000 - r_square: 0.8840 - val_loss: 844688576.0000 - val_r_square: 0.8899\n",
      "Epoch 268/500\n",
      "73/73 [==============================] - 0s 3ms/step - loss: 691871040.0000 - r_square: 0.8840 - val_loss: 888434496.0000 - val_r_square: 0.8842\n",
      "Epoch 269/500\n",
      "73/73 [==============================] - 0s 3ms/step - loss: 696206464.0000 - r_square: 0.8833 - val_loss: 877123200.0000 - val_r_square: 0.8856\n",
      "Epoch 270/500\n",
      "73/73 [==============================] - 0s 3ms/step - loss: 708888384.0000 - r_square: 0.8811 - val_loss: 838985856.0000 - val_r_square: 0.8906\n",
      "Epoch 271/500\n",
      "73/73 [==============================] - 0s 3ms/step - loss: 694888000.0000 - r_square: 0.8835 - val_loss: 857424320.0000 - val_r_square: 0.8882\n",
      "Epoch 272/500\n",
      "73/73 [==============================] - 0s 3ms/step - loss: 696931648.0000 - r_square: 0.8832 - val_loss: 865112448.0000 - val_r_square: 0.8872\n",
      "Epoch 273/500\n",
      "73/73 [==============================] - 0s 3ms/step - loss: 689485888.0000 - r_square: 0.8844 - val_loss: 835970752.0000 - val_r_square: 0.8910\n",
      "Epoch 274/500\n",
      "73/73 [==============================] - 0s 3ms/step - loss: 693419008.0000 - r_square: 0.8837 - val_loss: 879147392.0000 - val_r_square: 0.8854\n",
      "Epoch 275/500\n",
      "73/73 [==============================] - 0s 3ms/step - loss: 680695104.0000 - r_square: 0.8859 - val_loss: 855921152.0000 - val_r_square: 0.8884\n",
      "Epoch 276/500\n",
      "73/73 [==============================] - 0s 3ms/step - loss: 702008000.0000 - r_square: 0.8823 - val_loss: 868425408.0000 - val_r_square: 0.8868\n",
      "Epoch 277/500\n",
      "73/73 [==============================] - 0s 3ms/step - loss: 654631616.0000 - r_square: 0.8902 - val_loss: 853883200.0000 - val_r_square: 0.8887\n",
      "Epoch 278/500\n",
      "73/73 [==============================] - 0s 3ms/step - loss: 672187712.0000 - r_square: 0.8873 - val_loss: 817913344.0000 - val_r_square: 0.8934\n",
      "Epoch 279/500\n",
      "73/73 [==============================] - 0s 3ms/step - loss: 667927936.0000 - r_square: 0.8880 - val_loss: 820350528.0000 - val_r_square: 0.8930\n",
      "Epoch 280/500\n",
      "73/73 [==============================] - 0s 3ms/step - loss: 651213632.0000 - r_square: 0.8908 - val_loss: 856563648.0000 - val_r_square: 0.8883\n",
      "Epoch 281/500\n",
      "73/73 [==============================] - 0s 3ms/step - loss: 664851136.0000 - r_square: 0.8885 - val_loss: 986736256.0000 - val_r_square: 0.8714\n",
      "Epoch 282/500\n",
      "73/73 [==============================] - 0s 3ms/step - loss: 652116480.0000 - r_square: 0.8907 - val_loss: 842574080.0000 - val_r_square: 0.8902\n",
      "Epoch 283/500\n",
      "73/73 [==============================] - 0s 3ms/step - loss: 662756224.0000 - r_square: 0.8889 - val_loss: 832899648.0000 - val_r_square: 0.8914\n",
      "Epoch 284/500\n",
      "73/73 [==============================] - 0s 3ms/step - loss: 658409408.0000 - r_square: 0.8896 - val_loss: 894172416.0000 - val_r_square: 0.8834\n",
      "Epoch 285/500\n",
      "73/73 [==============================] - 0s 3ms/step - loss: 659653824.0000 - r_square: 0.8894 - val_loss: 964986048.0000 - val_r_square: 0.8742\n",
      "Epoch 286/500\n",
      "73/73 [==============================] - 0s 3ms/step - loss: 646436032.0000 - r_square: 0.8916 - val_loss: 870957376.0000 - val_r_square: 0.8865\n",
      "Epoch 287/500\n",
      "73/73 [==============================] - 0s 3ms/step - loss: 681662336.0000 - r_square: 0.8857 - val_loss: 909105408.0000 - val_r_square: 0.8815\n",
      "Epoch 288/500\n",
      "73/73 [==============================] - 0s 3ms/step - loss: 663363136.0000 - r_square: 0.8888 - val_loss: 840052288.0000 - val_r_square: 0.8905\n",
      "Epoch 289/500\n",
      "73/73 [==============================] - 0s 3ms/step - loss: 637468224.0000 - r_square: 0.8931 - val_loss: 860016128.0000 - val_r_square: 0.8879\n",
      "Epoch 290/500\n",
      "73/73 [==============================] - 0s 3ms/step - loss: 649570176.0000 - r_square: 0.8911 - val_loss: 783164992.0000 - val_r_square: 0.8979\n",
      "Epoch 291/500\n",
      "73/73 [==============================] - 0s 3ms/step - loss: 640732480.0000 - r_square: 0.8926 - val_loss: 837517184.0000 - val_r_square: 0.8908\n",
      "Epoch 292/500\n",
      "73/73 [==============================] - 0s 3ms/step - loss: 621221824.0000 - r_square: 0.8958 - val_loss: 795251904.0000 - val_r_square: 0.8963\n",
      "Epoch 293/500\n",
      "73/73 [==============================] - 0s 3ms/step - loss: 663163328.0000 - r_square: 0.8888 - val_loss: 827963584.0000 - val_r_square: 0.8921\n",
      "Epoch 294/500\n",
      "73/73 [==============================] - 0s 3ms/step - loss: 648379136.0000 - r_square: 0.8913 - val_loss: 811807360.0000 - val_r_square: 0.8942\n",
      "Epoch 295/500\n",
      "73/73 [==============================] - 0s 3ms/step - loss: 614268736.0000 - r_square: 0.8970 - val_loss: 806283008.0000 - val_r_square: 0.8949\n",
      "Epoch 296/500\n",
      "73/73 [==============================] - 0s 3ms/step - loss: 609105344.0000 - r_square: 0.8979 - val_loss: 821405568.0000 - val_r_square: 0.8929\n",
      "Epoch 297/500\n",
      "73/73 [==============================] - 0s 3ms/step - loss: 647962880.0000 - r_square: 0.8914 - val_loss: 785537152.0000 - val_r_square: 0.8976\n",
      "Epoch 298/500\n",
      "73/73 [==============================] - 0s 3ms/step - loss: 608341760.0000 - r_square: 0.8980 - val_loss: 771139008.0000 - val_r_square: 0.8995\n",
      "Epoch 299/500\n",
      "73/73 [==============================] - 0s 3ms/step - loss: 631677888.0000 - r_square: 0.8941 - val_loss: 825817728.0000 - val_r_square: 0.8923\n",
      "Epoch 300/500\n",
      "73/73 [==============================] - 0s 3ms/step - loss: 626505664.0000 - r_square: 0.8950 - val_loss: 841392512.0000 - val_r_square: 0.8903\n",
      "Epoch 301/500\n",
      "73/73 [==============================] - 0s 3ms/step - loss: 612062592.0000 - r_square: 0.8974 - val_loss: 844013824.0000 - val_r_square: 0.8900\n",
      "Epoch 302/500\n",
      "73/73 [==============================] - 0s 3ms/step - loss: 621080896.0000 - r_square: 0.8959 - val_loss: 779859392.0000 - val_r_square: 0.8983\n",
      "Epoch 303/500\n",
      "73/73 [==============================] - 0s 3ms/step - loss: 612357376.0000 - r_square: 0.8973 - val_loss: 860630592.0000 - val_r_square: 0.8878\n",
      "Epoch 304/500\n",
      "73/73 [==============================] - 0s 3ms/step - loss: 654096320.0000 - r_square: 0.8903 - val_loss: 812130432.0000 - val_r_square: 0.8941\n",
      "Epoch 305/500\n",
      "73/73 [==============================] - 0s 3ms/step - loss: 633793856.0000 - r_square: 0.8937 - val_loss: 796617408.0000 - val_r_square: 0.8961\n",
      "Epoch 306/500\n",
      "73/73 [==============================] - 0s 3ms/step - loss: 608211200.0000 - r_square: 0.8980 - val_loss: 859688704.0000 - val_r_square: 0.8879\n",
      "Epoch 307/500\n",
      "73/73 [==============================] - 0s 3ms/step - loss: 632610368.0000 - r_square: 0.8939 - val_loss: 803238272.0000 - val_r_square: 0.8953\n",
      "Epoch 308/500\n",
      "73/73 [==============================] - 0s 3ms/step - loss: 627108288.0000 - r_square: 0.8949 - val_loss: 782824320.0000 - val_r_square: 0.8979\n",
      "Epoch 309/500\n",
      "73/73 [==============================] - 0s 3ms/step - loss: 586634368.0000 - r_square: 0.9016 - val_loss: 781016576.0000 - val_r_square: 0.8982\n",
      "Epoch 310/500\n",
      "73/73 [==============================] - 0s 3ms/step - loss: 591413504.0000 - r_square: 0.9008 - val_loss: 790598016.0000 - val_r_square: 0.8969\n",
      "Epoch 311/500\n",
      "73/73 [==============================] - 0s 3ms/step - loss: 577987072.0000 - r_square: 0.9031 - val_loss: 779647296.0000 - val_r_square: 0.8984\n",
      "Epoch 312/500\n",
      "73/73 [==============================] - 0s 3ms/step - loss: 584238464.0000 - r_square: 0.9020 - val_loss: 773064768.0000 - val_r_square: 0.8992\n",
      "Epoch 313/500\n",
      "73/73 [==============================] - 0s 3ms/step - loss: 592878208.0000 - r_square: 0.9006 - val_loss: 760490624.0000 - val_r_square: 0.9009\n",
      "Epoch 314/500\n",
      "73/73 [==============================] - 0s 3ms/step - loss: 618589120.0000 - r_square: 0.8963 - val_loss: 773710144.0000 - val_r_square: 0.8991\n",
      "Epoch 315/500\n",
      "73/73 [==============================] - 0s 3ms/step - loss: 665748160.0000 - r_square: 0.8884 - val_loss: 812425728.0000 - val_r_square: 0.8941\n",
      "Epoch 316/500\n",
      "73/73 [==============================] - 0s 3ms/step - loss: 635702208.0000 - r_square: 0.8934 - val_loss: 785686656.0000 - val_r_square: 0.8976\n",
      "Epoch 317/500\n",
      "73/73 [==============================] - 0s 3ms/step - loss: 589100224.0000 - r_square: 0.9012 - val_loss: 783023424.0000 - val_r_square: 0.8979\n",
      "Epoch 318/500\n",
      "73/73 [==============================] - 0s 3ms/step - loss: 602018816.0000 - r_square: 0.8991 - val_loss: 820826368.0000 - val_r_square: 0.8930\n",
      "Epoch 319/500\n",
      "73/73 [==============================] - 0s 3ms/step - loss: 591293760.0000 - r_square: 0.9009 - val_loss: 858153728.0000 - val_r_square: 0.8881\n",
      "Epoch 320/500\n",
      "73/73 [==============================] - 0s 3ms/step - loss: 579764160.0000 - r_square: 0.9028 - val_loss: 781730240.0000 - val_r_square: 0.8981\n",
      "Epoch 321/500\n",
      "73/73 [==============================] - 0s 3ms/step - loss: 569591296.0000 - r_square: 0.9045 - val_loss: 751417344.0000 - val_r_square: 0.9020\n",
      "Epoch 322/500\n",
      "73/73 [==============================] - 0s 3ms/step - loss: 578344768.0000 - r_square: 0.9030 - val_loss: 819201344.0000 - val_r_square: 0.8932\n",
      "Epoch 323/500\n",
      "73/73 [==============================] - 0s 3ms/step - loss: 581050112.0000 - r_square: 0.9026 - val_loss: 773561472.0000 - val_r_square: 0.8991\n",
      "Epoch 324/500\n",
      "73/73 [==============================] - 0s 3ms/step - loss: 594639552.0000 - r_square: 0.9003 - val_loss: 779751360.0000 - val_r_square: 0.8983\n",
      "Epoch 325/500\n",
      "73/73 [==============================] - 0s 3ms/step - loss: 580288896.0000 - r_square: 0.9027 - val_loss: 743962368.0000 - val_r_square: 0.9030\n",
      "Epoch 326/500\n",
      "73/73 [==============================] - 0s 3ms/step - loss: 614701056.0000 - r_square: 0.8969 - val_loss: 799701824.0000 - val_r_square: 0.8957\n",
      "Epoch 327/500\n",
      "73/73 [==============================] - 0s 3ms/step - loss: 563574272.0000 - r_square: 0.9055 - val_loss: 792454784.0000 - val_r_square: 0.8967\n",
      "Epoch 328/500\n",
      "73/73 [==============================] - 0s 3ms/step - loss: 560800128.0000 - r_square: 0.9060 - val_loss: 806901696.0000 - val_r_square: 0.8948\n",
      "Epoch 329/500\n",
      "73/73 [==============================] - 0s 3ms/step - loss: 559971840.0000 - r_square: 0.9061 - val_loss: 758501312.0000 - val_r_square: 0.9011\n",
      "Epoch 330/500\n",
      "73/73 [==============================] - 0s 3ms/step - loss: 579935296.0000 - r_square: 0.9028 - val_loss: 764924736.0000 - val_r_square: 0.9003\n",
      "Epoch 331/500\n",
      "73/73 [==============================] - 0s 3ms/step - loss: 557691648.0000 - r_square: 0.9065 - val_loss: 816977280.0000 - val_r_square: 0.8935\n",
      "Epoch 332/500\n",
      "73/73 [==============================] - 0s 3ms/step - loss: 612360000.0000 - r_square: 0.8973 - val_loss: 797492352.0000 - val_r_square: 0.8960\n",
      "Epoch 333/500\n",
      "73/73 [==============================] - 0s 3ms/step - loss: 548479424.0000 - r_square: 0.9080 - val_loss: 783041856.0000 - val_r_square: 0.8979\n",
      "Epoch 334/500\n",
      "73/73 [==============================] - 0s 3ms/step - loss: 553949056.0000 - r_square: 0.9071 - val_loss: 838688192.0000 - val_r_square: 0.8907\n",
      "Epoch 335/500\n",
      "73/73 [==============================] - 0s 3ms/step - loss: 557485824.0000 - r_square: 0.9065 - val_loss: 756720064.0000 - val_r_square: 0.9013\n",
      "Epoch 336/500\n",
      "73/73 [==============================] - 0s 3ms/step - loss: 581499520.0000 - r_square: 0.9025 - val_loss: 770033344.0000 - val_r_square: 0.8996\n",
      "Epoch 337/500\n",
      "73/73 [==============================] - 0s 3ms/step - loss: 557377088.0000 - r_square: 0.9066 - val_loss: 782818624.0000 - val_r_square: 0.8979\n",
      "Epoch 338/500\n",
      "73/73 [==============================] - 0s 3ms/step - loss: 541595200.0000 - r_square: 0.9092 - val_loss: 785323648.0000 - val_r_square: 0.8976\n",
      "Epoch 339/500\n",
      "73/73 [==============================] - 0s 3ms/step - loss: 559317952.0000 - r_square: 0.9062 - val_loss: 768027008.0000 - val_r_square: 0.8999\n",
      "Epoch 340/500\n",
      "73/73 [==============================] - 0s 3ms/step - loss: 545812032.0000 - r_square: 0.9085 - val_loss: 791846976.0000 - val_r_square: 0.8968\n",
      "Epoch 341/500\n",
      "73/73 [==============================] - 0s 3ms/step - loss: 548076736.0000 - r_square: 0.9081 - val_loss: 762243072.0000 - val_r_square: 0.9006\n",
      "Epoch 342/500\n",
      "73/73 [==============================] - 0s 3ms/step - loss: 554932096.0000 - r_square: 0.9070 - val_loss: 850878976.0000 - val_r_square: 0.8891\n",
      "Epoch 343/500\n",
      "73/73 [==============================] - 0s 3ms/step - loss: 550439808.0000 - r_square: 0.9077 - val_loss: 763355200.0000 - val_r_square: 0.9005\n",
      "Epoch 344/500\n",
      "73/73 [==============================] - 0s 3ms/step - loss: 546151424.0000 - r_square: 0.9084 - val_loss: 745257856.0000 - val_r_square: 0.9028\n",
      "Epoch 345/500\n",
      "73/73 [==============================] - 0s 3ms/step - loss: 542549120.0000 - r_square: 0.9090 - val_loss: 802582848.0000 - val_r_square: 0.8954\n",
      "Epoch 346/500\n",
      "73/73 [==============================] - 0s 3ms/step - loss: 524361888.0000 - r_square: 0.9121 - val_loss: 801391104.0000 - val_r_square: 0.8955\n",
      "Epoch 347/500\n",
      "73/73 [==============================] - 0s 3ms/step - loss: 561601088.0000 - r_square: 0.9058 - val_loss: 820767296.0000 - val_r_square: 0.8930\n",
      "Epoch 348/500\n",
      "73/73 [==============================] - 0s 3ms/step - loss: 535966720.0000 - r_square: 0.9101 - val_loss: 784528064.0000 - val_r_square: 0.8977\n",
      "Epoch 349/500\n",
      "73/73 [==============================] - 0s 3ms/step - loss: 553416448.0000 - r_square: 0.9072 - val_loss: 754802944.0000 - val_r_square: 0.9016\n",
      "Epoch 350/500\n",
      "73/73 [==============================] - 0s 3ms/step - loss: 519961216.0000 - r_square: 0.9128 - val_loss: 736027456.0000 - val_r_square: 0.9040\n",
      "Epoch 351/500\n",
      "73/73 [==============================] - 0s 3ms/step - loss: 587735296.0000 - r_square: 0.9015 - val_loss: 742189696.0000 - val_r_square: 0.9032\n",
      "Epoch 352/500\n",
      "73/73 [==============================] - 0s 3ms/step - loss: 507866240.0000 - r_square: 0.9149 - val_loss: 756760256.0000 - val_r_square: 0.9013\n",
      "Epoch 353/500\n",
      "73/73 [==============================] - 0s 3ms/step - loss: 510238336.0000 - r_square: 0.9145 - val_loss: 727732800.0000 - val_r_square: 0.9051\n",
      "Epoch 354/500\n",
      "73/73 [==============================] - 0s 3ms/step - loss: 506487072.0000 - r_square: 0.9151 - val_loss: 725418240.0000 - val_r_square: 0.9054\n",
      "Epoch 355/500\n",
      "73/73 [==============================] - 0s 3ms/step - loss: 561008768.0000 - r_square: 0.9059 - val_loss: 724486592.0000 - val_r_square: 0.9055\n",
      "Epoch 356/500\n",
      "73/73 [==============================] - 0s 4ms/step - loss: 533235072.0000 - r_square: 0.9106 - val_loss: 851885696.0000 - val_r_square: 0.8889\n",
      "Epoch 357/500\n",
      "73/73 [==============================] - 0s 3ms/step - loss: 552162944.0000 - r_square: 0.9074 - val_loss: 728849856.0000 - val_r_square: 0.9050\n",
      "Epoch 358/500\n",
      "73/73 [==============================] - 0s 3ms/step - loss: 520938304.0000 - r_square: 0.9127 - val_loss: 775097664.0000 - val_r_square: 0.8989\n",
      "Epoch 359/500\n",
      "73/73 [==============================] - 0s 3ms/step - loss: 499982912.0000 - r_square: 0.9162 - val_loss: 755537984.0000 - val_r_square: 0.9015\n",
      "Epoch 360/500\n",
      "73/73 [==============================] - 0s 3ms/step - loss: 506298144.0000 - r_square: 0.9151 - val_loss: 762857408.0000 - val_r_square: 0.9005\n",
      "Epoch 361/500\n",
      "73/73 [==============================] - 0s 3ms/step - loss: 543800256.0000 - r_square: 0.9088 - val_loss: 805043520.0000 - val_r_square: 0.8950\n",
      "Epoch 362/500\n",
      "73/73 [==============================] - 0s 3ms/step - loss: 510745728.0000 - r_square: 0.9144 - val_loss: 764927424.0000 - val_r_square: 0.9003\n",
      "Epoch 363/500\n",
      "73/73 [==============================] - 0s 3ms/step - loss: 522404960.0000 - r_square: 0.9124 - val_loss: 720106752.0000 - val_r_square: 0.9061\n",
      "Epoch 364/500\n",
      "73/73 [==============================] - 0s 3ms/step - loss: 530619744.0000 - r_square: 0.9110 - val_loss: 738542080.0000 - val_r_square: 0.9037\n",
      "Epoch 365/500\n",
      "73/73 [==============================] - 0s 3ms/step - loss: 505950496.0000 - r_square: 0.9152 - val_loss: 755618368.0000 - val_r_square: 0.9015\n",
      "Epoch 366/500\n",
      "73/73 [==============================] - 0s 3ms/step - loss: 483667744.0000 - r_square: 0.9189 - val_loss: 768340864.0000 - val_r_square: 0.8998\n",
      "Epoch 367/500\n",
      "73/73 [==============================] - 0s 3ms/step - loss: 511831616.0000 - r_square: 0.9142 - val_loss: 775031040.0000 - val_r_square: 0.8990\n",
      "Epoch 368/500\n",
      "73/73 [==============================] - 0s 3ms/step - loss: 509694624.0000 - r_square: 0.9145 - val_loss: 827036480.0000 - val_r_square: 0.8922\n",
      "Epoch 369/500\n",
      "73/73 [==============================] - 0s 3ms/step - loss: 490662688.0000 - r_square: 0.9177 - val_loss: 987090112.0000 - val_r_square: 0.8713\n",
      "Epoch 370/500\n",
      "73/73 [==============================] - 0s 3ms/step - loss: 528666912.0000 - r_square: 0.9114 - val_loss: 860263808.0000 - val_r_square: 0.8878\n",
      "Epoch 371/500\n",
      "73/73 [==============================] - 0s 3ms/step - loss: 511402816.0000 - r_square: 0.9143 - val_loss: 735055360.0000 - val_r_square: 0.9042\n",
      "Epoch 372/500\n",
      "73/73 [==============================] - 0s 3ms/step - loss: 527893280.0000 - r_square: 0.9115 - val_loss: 844779008.0000 - val_r_square: 0.8899\n",
      "Epoch 373/500\n",
      "73/73 [==============================] - 0s 3ms/step - loss: 549019072.0000 - r_square: 0.9080 - val_loss: 860541056.0000 - val_r_square: 0.8878\n",
      "Epoch 374/500\n",
      "73/73 [==============================] - 0s 3ms/step - loss: 490323584.0000 - r_square: 0.9178 - val_loss: 765571840.0000 - val_r_square: 0.9002\n",
      "Epoch 375/500\n",
      "73/73 [==============================] - 0s 3ms/step - loss: 495569696.0000 - r_square: 0.9169 - val_loss: 756946688.0000 - val_r_square: 0.9013\n",
      "Epoch 376/500\n",
      "73/73 [==============================] - 0s 3ms/step - loss: 497935968.0000 - r_square: 0.9165 - val_loss: 742425344.0000 - val_r_square: 0.9032\n",
      "Epoch 377/500\n",
      "73/73 [==============================] - 0s 3ms/step - loss: 507867264.0000 - r_square: 0.9149 - val_loss: 790008960.0000 - val_r_square: 0.8970\n",
      "Epoch 378/500\n",
      "73/73 [==============================] - 0s 3ms/step - loss: 510138848.0000 - r_square: 0.9145 - val_loss: 771287872.0000 - val_r_square: 0.8994\n",
      "Epoch 379/500\n",
      "73/73 [==============================] - 0s 3ms/step - loss: 531584704.0000 - r_square: 0.9109 - val_loss: 773238080.0000 - val_r_square: 0.8992\n",
      "Epoch 380/500\n",
      "73/73 [==============================] - 0s 3ms/step - loss: 489725152.0000 - r_square: 0.9179 - val_loss: 725238976.0000 - val_r_square: 0.9054\n",
      "Epoch 381/500\n",
      "73/73 [==============================] - 0s 3ms/step - loss: 492088448.0000 - r_square: 0.9175 - val_loss: 743381440.0000 - val_r_square: 0.9031\n",
      "Epoch 382/500\n",
      "73/73 [==============================] - 0s 3ms/step - loss: 494534528.0000 - r_square: 0.9171 - val_loss: 784443840.0000 - val_r_square: 0.8977\n",
      "Epoch 383/500\n",
      "73/73 [==============================] - 0s 3ms/step - loss: 514279392.0000 - r_square: 0.9138 - val_loss: 724084672.0000 - val_r_square: 0.9056\n",
      "Epoch 384/500\n",
      "73/73 [==============================] - 0s 3ms/step - loss: 482821728.0000 - r_square: 0.9191 - val_loss: 751094208.0000 - val_r_square: 0.9021\n",
      "Epoch 385/500\n",
      "73/73 [==============================] - 0s 3ms/step - loss: 477067808.0000 - r_square: 0.9200 - val_loss: 773236544.0000 - val_r_square: 0.8992\n",
      "Epoch 386/500\n",
      "73/73 [==============================] - 0s 3ms/step - loss: 496904992.0000 - r_square: 0.9167 - val_loss: 742774336.0000 - val_r_square: 0.9032\n",
      "Epoch 387/500\n",
      "73/73 [==============================] - 0s 3ms/step - loss: 503350208.0000 - r_square: 0.9156 - val_loss: 737811264.0000 - val_r_square: 0.9038\n",
      "Epoch 388/500\n",
      "73/73 [==============================] - 0s 3ms/step - loss: 473564032.0000 - r_square: 0.9206 - val_loss: 811929472.0000 - val_r_square: 0.8941\n",
      "Epoch 388: early stopping\n"
     ]
    },
    {
     "data": {
      "text/plain": [
       "<keras.callbacks.History at 0x78149228fe50>"
      ]
     },
     "execution_count": 26,
     "metadata": {},
     "output_type": "execute_result"
    }
   ],
   "source": [
    "import tensorflow as tf\n",
    "from keras.layers import Dense\n",
    "from keras.models import Sequential\n",
    "from keras.callbacks import EarlyStopping\n",
    "from keras.optimizers import Adam, SGD\n",
    "from keras.utils import set_random_seed\n",
    "from tensorflow_addons.metrics import RSquare\n",
    "\n",
    "set_random_seed(42)\n",
    "\n",
    "nn_model =  Sequential()\n",
    "\n",
    "nn_model.add(Dense(64, input_shape=(X_train.shape[1],), \n",
    "                   activation='relu',\n",
    "                  bias_regularizer='l2'))\n",
    "\n",
    "nn_model.add(Dense(64, activation='relu', bias_regularizer='l2'))\n",
    "\n",
    "#nn_model.add(Dense(128, activation='relu'))\n",
    "\n",
    "nn_model.add(Dense(1))\n",
    "\n",
    "early_stop = EarlyStopping(monitor='val_loss',\n",
    "                           mode='min',\n",
    "                           verbose=1,\n",
    "                           patience=25)\n",
    "\n",
    "nn_model.compile(optimizer='adam', \n",
    "              loss='mean_squared_error', \n",
    "              metrics=[RSquare()])\n",
    "nn_model.fit(X_train, y_train, \n",
    "          epochs=500, \n",
    "          batch_size=16, \n",
    "          callbacks=[early_stop],\n",
    "          validation_data=(X_val, y_val))"
   ]
  },
  {
   "cell_type": "code",
   "execution_count": 27,
   "id": "161d87e8",
   "metadata": {
    "execution": {
     "iopub.execute_input": "2023-06-28T05:45:31.122884Z",
     "iopub.status.busy": "2023-06-28T05:45:31.122495Z",
     "iopub.status.idle": "2023-06-28T05:46:27.093799Z",
     "shell.execute_reply": "2023-06-28T05:46:27.092665Z"
    },
    "papermill": {
     "duration": 56.158096,
     "end_time": "2023-06-28T05:46:27.096334",
     "exception": false,
     "start_time": "2023-06-28T05:45:30.938238",
     "status": "completed"
    },
    "tags": []
   },
   "outputs": [
    {
     "data": {
      "text/plain": [
       "<Axes: >"
      ]
     },
     "execution_count": 27,
     "metadata": {},
     "output_type": "execute_result"
    },
    {
     "data": {
      "image/png": "[encoded data removed]",
      "text/plain": [
       "<Figure size 640x480 with 1 Axes>"
      ]
     },
     "metadata": {},
     "output_type": "display_data"
    }
   ],
   "source": [
    "pd.DataFrame(nn_model.history.history)[['loss','val_loss']].plot()"
   ]
  },
  {
   "cell_type": "code",
   "execution_count": 28,
   "id": "b39d0abd",
   "metadata": {
    "execution": {
     "iopub.execute_input": "2023-06-28T05:46:27.467663Z",
     "iopub.status.busy": "2023-06-28T05:46:27.467256Z",
     "iopub.status.idle": "2023-06-28T05:46:27.635378Z",
     "shell.execute_reply": "2023-06-28T05:46:27.634334Z"
    },
    "papermill": {
     "duration": 0.356831,
     "end_time": "2023-06-28T05:46:27.637919",
     "exception": false,
     "start_time": "2023-06-28T05:46:27.281088",
     "status": "completed"
    },
    "tags": []
   },
   "outputs": [
    {
     "name": "stdout",
     "output_type": "stream",
     "text": [
      "10/10 [==============================] - 0s 2ms/step - loss: 811929344.0000 - r_square: 0.8941\n"
     ]
    },
    {
     "data": {
      "text/plain": [
       "[811929344.0, 0.8941466212272644]"
      ]
     },
     "execution_count": 28,
     "metadata": {},
     "output_type": "execute_result"
    }
   ],
   "source": [
    "nn_model.evaluate(X_val, y_val)"
   ]
  },
  {
   "cell_type": "code",
   "execution_count": 29,
   "id": "c605006c",
   "metadata": {
    "execution": {
     "iopub.execute_input": "2023-06-28T05:46:28.008846Z",
     "iopub.status.busy": "2023-06-28T05:46:28.008446Z",
     "iopub.status.idle": "2023-06-28T05:46:28.252658Z",
     "shell.execute_reply": "2023-06-28T05:46:28.251634Z"
    },
    "papermill": {
     "duration": 0.431475,
     "end_time": "2023-06-28T05:46:28.254855",
     "exception": false,
     "start_time": "2023-06-28T05:46:27.823380",
     "status": "completed"
    },
    "tags": []
   },
   "outputs": [
    {
     "name": "stdout",
     "output_type": "stream",
     "text": [
      "10/10 [==============================] - 0s 1ms/step\n",
      "R2 Score: 0.8941466999928125\n",
      "Mean Absolude Error: 18573.03447399401\n",
      "Mean Square Error: 811929341.162371\n",
      "Root Mean Square Error: 28494.37385103191\n"
     ]
    }
   ],
   "source": [
    "y_pred=nn_model.predict(X_val)\n",
    "print('R2 Score:',r2_score(y_true=y_val, y_pred=y_pred))\n",
    "print('Mean Absolude Error:',mean_absolute_error(y_true=y_val, y_pred=y_pred))\n",
    "print('Mean Square Error:',mean_squared_error(y_true=y_val, y_pred=y_pred))\n",
    "print('Root Mean Square Error:',mean_squared_error(y_true=y_val, y_pred=y_pred, squared=False))"
   ]
  },
  {
   "cell_type": "code",
   "execution_count": 30,
   "id": "9d2cc629",
   "metadata": {
    "execution": {
     "iopub.execute_input": "2023-06-28T05:46:28.632358Z",
     "iopub.status.busy": "2023-06-28T05:46:28.631751Z",
     "iopub.status.idle": "2023-06-28T05:46:28.900099Z",
     "shell.execute_reply": "2023-06-28T05:46:28.899311Z"
    },
    "papermill": {
     "duration": 0.458803,
     "end_time": "2023-06-28T05:46:28.902504",
     "exception": false,
     "start_time": "2023-06-28T05:46:28.443701",
     "status": "completed"
    },
    "tags": []
   },
   "outputs": [
    {
     "name": "stdout",
     "output_type": "stream",
     "text": [
      "46/46 [==============================] - 0s 1ms/step\n",
      "        Id      SalePrice\n",
      "0     1461  109346.992188\n",
      "1     1462  154575.265625\n",
      "2     1463  187926.593750\n",
      "3     1464  194341.718750\n",
      "4     1465  167344.453125\n",
      "...    ...            ...\n",
      "1454  2915   83666.812500\n",
      "1455  2916  101456.179688\n",
      "1456  2917  192011.031250\n",
      "1457  2918  100418.546875\n",
      "1458  2919  220523.968750\n",
      "\n",
      "[1459 rows x 2 columns]\n"
     ]
    }
   ],
   "source": [
    "sample_submission['Id'] = test.reset_index()['Id']\n",
    "sample_submission.SalePrice = nn_model.predict(X_test)\n",
    "sample_submission.set_index('Id').to_csv('submissionNN.csv')\n",
    "print(sample_submission)"
   ]
  }
 ],
 "metadata": {
  "kernelspec": {
   "display_name": "Python 3",
   "language": "python",
   "name": "python3"
  },
  "language_info": {
   "codemirror_mode": {
    "name": "ipython",
    "version": 3
   },
   "file_extension": ".py",
   "mimetype": "text/x-python",
   "name": "python",
   "nbconvert_exporter": "python",
   "pygments_lexer": "ipython3",
   "version": "3.10.10"
  },
  "papermill": {
   "default_parameters": {},
   "duration": 181.823327,
   "end_time": "2023-06-28T05:46:32.402945",
   "environment_variables": {},
   "exception": null,
   "input_path": "__notebook__.ipynb",
   "output_path": "__notebook__.ipynb",
   "parameters": {},
   "start_time": "2023-06-28T05:43:30.579618",
   "version": "2.4.0"
  }
 },
 "nbformat": 4,
 "nbformat_minor": 5
}
